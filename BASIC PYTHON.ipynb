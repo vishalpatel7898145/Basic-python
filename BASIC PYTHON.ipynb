{
 "cells": [
  {
   "cell_type": "code",
   "execution_count": 7,
   "id": "3f2a1856-0ca0-48bd-8d77-0fa7b38f6a53",
   "metadata": {},
   "outputs": [],
   "source": [
    "## primitive data type \n",
    "\n",
    "\n",
    "a  = 5"
   ]
  },
  {
   "cell_type": "code",
   "execution_count": 3,
   "id": "bac2f973-1efb-4abe-93dd-16966b2de3bc",
   "metadata": {},
   "outputs": [
    {
     "data": {
      "text/plain": [
       "int"
      ]
     },
     "execution_count": 3,
     "metadata": {},
     "output_type": "execute_result"
    }
   ],
   "source": [
    "type(a)"
   ]
  },
  {
   "cell_type": "code",
   "execution_count": 4,
   "id": "6ce52acf-2720-4a5e-a8a8-1ba51d220e74",
   "metadata": {},
   "outputs": [
    {
     "data": {
      "text/plain": [
       "25"
      ]
     },
     "execution_count": 4,
     "metadata": {},
     "output_type": "execute_result"
    }
   ],
   "source": [
    "vis = 20\n",
    "a+vis\n"
   ]
  },
  {
   "cell_type": "code",
   "execution_count": 5,
   "id": "4f32f9e9-f2dc-46f0-a0d5-14178f0b9f15",
   "metadata": {},
   "outputs": [
    {
     "data": {
      "text/plain": [
       "int"
      ]
     },
     "execution_count": 5,
     "metadata": {},
     "output_type": "execute_result"
    }
   ],
   "source": [
    "type(vis)"
   ]
  },
  {
   "cell_type": "code",
   "execution_count": 6,
   "id": "00d94329-e415-42fe-ba16-a31225b52749",
   "metadata": {},
   "outputs": [
    {
     "data": {
      "text/plain": [
       "float"
      ]
     },
     "execution_count": 6,
     "metadata": {},
     "output_type": "execute_result"
    }
   ],
   "source": [
    "d = 2.09\n",
    "type(d)"
   ]
  },
  {
   "cell_type": "code",
   "execution_count": 7,
   "id": "1e14694c-19c9-46af-8341-98742e3f096c",
   "metadata": {},
   "outputs": [],
   "source": [
    "c = 45.2322"
   ]
  },
  {
   "cell_type": "code",
   "execution_count": 8,
   "id": "5c422cf0-8060-4dee-9768-7ddeaf6496a6",
   "metadata": {},
   "outputs": [
    {
     "data": {
      "text/plain": [
       "float"
      ]
     },
     "execution_count": 8,
     "metadata": {},
     "output_type": "execute_result"
    }
   ],
   "source": [
    "type(c)"
   ]
  },
  {
   "cell_type": "code",
   "execution_count": 9,
   "id": "dfce9c9f-5d9b-4fbb-a851-46761fb75118",
   "metadata": {},
   "outputs": [],
   "source": [
    "d = \"vishal\""
   ]
  },
  {
   "cell_type": "code",
   "execution_count": 10,
   "id": "a7a3bdfc-ab6e-47cb-852d-01134e20e209",
   "metadata": {},
   "outputs": [
    {
     "data": {
      "text/plain": [
       "str"
      ]
     },
     "execution_count": 10,
     "metadata": {},
     "output_type": "execute_result"
    }
   ],
   "source": [
    "type(d)"
   ]
  },
  {
   "cell_type": "code",
   "execution_count": 11,
   "id": "309d6835-e7db-4375-83b3-599f3e210720",
   "metadata": {},
   "outputs": [],
   "source": [
    "e = \"this is a my fist class of data science\""
   ]
  },
  {
   "cell_type": "code",
   "execution_count": 12,
   "id": "fd6629fc-6855-46c7-a361-3b72dcb73136",
   "metadata": {},
   "outputs": [
    {
     "data": {
      "text/plain": [
       "str"
      ]
     },
     "execution_count": 12,
     "metadata": {},
     "output_type": "execute_result"
    }
   ],
   "source": [
    "type(e)"
   ]
  },
  {
   "cell_type": "code",
   "execution_count": 1,
   "id": "eb70e7ca-224d-41cd-b066-51e3a5d920a2",
   "metadata": {},
   "outputs": [],
   "source": [
    "f = True"
   ]
  },
  {
   "cell_type": "code",
   "execution_count": 2,
   "id": "544a172b-3986-449a-80e1-16d4d98bf35b",
   "metadata": {},
   "outputs": [
    {
     "data": {
      "text/plain": [
       "bool"
      ]
     },
     "execution_count": 2,
     "metadata": {},
     "output_type": "execute_result"
    }
   ],
   "source": [
    "type(f)"
   ]
  },
  {
   "cell_type": "code",
   "execution_count": 3,
   "id": "00c0c744-fe0a-4e01-a17a-d9824edd5846",
   "metadata": {},
   "outputs": [],
   "source": [
    "g = False"
   ]
  },
  {
   "cell_type": "code",
   "execution_count": 4,
   "id": "78f87e78-9f0a-4b53-8383-7db1e262a619",
   "metadata": {},
   "outputs": [
    {
     "data": {
      "text/plain": [
       "bool"
      ]
     },
     "execution_count": 4,
     "metadata": {},
     "output_type": "execute_result"
    }
   ],
   "source": [
    "type(g)"
   ]
  },
  {
   "cell_type": "code",
   "execution_count": 5,
   "id": "6b88d551-507f-481a-96ef-9a93c852d837",
   "metadata": {},
   "outputs": [
    {
     "data": {
      "text/plain": [
       "1"
      ]
     },
     "execution_count": 5,
     "metadata": {},
     "output_type": "execute_result"
    }
   ],
   "source": [
    "f+g"
   ]
  },
  {
   "cell_type": "code",
   "execution_count": 6,
   "id": "200cf64e-f9ec-4e9e-8330-906324d38023",
   "metadata": {},
   "outputs": [
    {
     "data": {
      "text/plain": [
       "0"
      ]
     },
     "execution_count": 6,
     "metadata": {},
     "output_type": "execute_result"
    }
   ],
   "source": [
    "f*g"
   ]
  },
  {
   "cell_type": "code",
   "execution_count": 7,
   "id": "ede9a606-2ed7-4378-b1a4-00d592ece518",
   "metadata": {},
   "outputs": [
    {
     "data": {
      "text/plain": [
       "1"
      ]
     },
     "execution_count": 7,
     "metadata": {},
     "output_type": "execute_result"
    }
   ],
   "source": [
    "True+False"
   ]
  },
  {
   "cell_type": "code",
   "execution_count": 8,
   "id": "f5239bdb-cdc9-4bd7-bde8-2c3360bc2ea9",
   "metadata": {},
   "outputs": [
    {
     "ename": "ZeroDivisionError",
     "evalue": "division by zero",
     "output_type": "error",
     "traceback": [
      "\u001b[0;31m---------------------------------------------------------------------------\u001b[0m",
      "\u001b[0;31mZeroDivisionError\u001b[0m                         Traceback (most recent call last)",
      "Cell \u001b[0;32mIn[8], line 1\u001b[0m\n\u001b[0;32m----> 1\u001b[0m \u001b[38;5;28;43;01mTrue\u001b[39;49;00m\u001b[38;5;241;43m/\u001b[39;49m\u001b[38;5;28;43;01mFalse\u001b[39;49;00m\n",
      "\u001b[0;31mZeroDivisionError\u001b[0m: division by zero"
     ]
    }
   ],
   "source": [
    "True/False"
   ]
  },
  {
   "cell_type": "code",
   "execution_count": 9,
   "id": "34fe5be8-ab3c-4743-a3f8-d2f952cc866d",
   "metadata": {},
   "outputs": [],
   "source": [
    "v = 5+8j"
   ]
  },
  {
   "cell_type": "code",
   "execution_count": 10,
   "id": "991ae231-4531-4bf0-a5f2-2aa218de1219",
   "metadata": {},
   "outputs": [
    {
     "data": {
      "text/plain": [
       "complex"
      ]
     },
     "execution_count": 10,
     "metadata": {},
     "output_type": "execute_result"
    }
   ],
   "source": [
    "type(v)"
   ]
  },
  {
   "cell_type": "code",
   "execution_count": 11,
   "id": "a66f7320-a73b-4e09-a020-1412f8f0b4b9",
   "metadata": {},
   "outputs": [
    {
     "data": {
      "text/plain": [
       "5.0"
      ]
     },
     "execution_count": 11,
     "metadata": {},
     "output_type": "execute_result"
    }
   ],
   "source": [
    "v.real"
   ]
  },
  {
   "cell_type": "code",
   "execution_count": 12,
   "id": "aa313895-a565-4566-a83b-f86426654db4",
   "metadata": {},
   "outputs": [
    {
     "data": {
      "text/plain": [
       "<function complex.conjugate()>"
      ]
     },
     "execution_count": 12,
     "metadata": {},
     "output_type": "execute_result"
    }
   ],
   "source": [
    "v.conjugate"
   ]
  },
  {
   "cell_type": "code",
   "execution_count": 13,
   "id": "e47cb567-747c-4d19-a761-8a6412cede4c",
   "metadata": {},
   "outputs": [
    {
     "data": {
      "text/plain": [
       "8.0"
      ]
     },
     "execution_count": 13,
     "metadata": {},
     "output_type": "execute_result"
    }
   ],
   "source": [
    "v.imag"
   ]
  },
  {
   "cell_type": "code",
   "execution_count": 18,
   "id": "fc0c977b-4052-4c2b-bbe9-91c40f4805b6",
   "metadata": {},
   "outputs": [
    {
     "data": {
      "text/plain": [
       "(5+8j)"
      ]
     },
     "execution_count": 18,
     "metadata": {},
     "output_type": "execute_result"
    }
   ],
   "source": [
    "v"
   ]
  },
  {
   "cell_type": "code",
   "execution_count": 19,
   "id": "6bc139c3-43d0-48ed-a315-bf5dd9ee321d",
   "metadata": {},
   "outputs": [
    {
     "name": "stdout",
     "output_type": "stream",
     "text": [
      "my name is vishal\n"
     ]
    }
   ],
   "source": [
    "print(\"my name is vishal\")"
   ]
  },
  {
   "cell_type": "code",
   "execution_count": 21,
   "id": "f228f3c5-adb1-4d8b-9bad-3e9cbd7961e5",
   "metadata": {},
   "outputs": [
    {
     "name": "stdout",
     "output_type": "stream",
     "text": [
      "(5+8j)\n"
     ]
    }
   ],
   "source": [
    "print(v)"
   ]
  },
  {
   "cell_type": "code",
   "execution_count": 22,
   "id": "eb8bb3b9-e404-425b-865d-877b1211f933",
   "metadata": {},
   "outputs": [],
   "source": [
    "s = \"pwskill\""
   ]
  },
  {
   "cell_type": "code",
   "execution_count": 23,
   "id": "f8e15c7f-33f9-4f9c-845a-1dff511df669",
   "metadata": {},
   "outputs": [
    {
     "data": {
      "text/plain": [
       "'l'"
      ]
     },
     "execution_count": 23,
     "metadata": {},
     "output_type": "execute_result"
    }
   ],
   "source": [
    "s[5]"
   ]
  },
  {
   "cell_type": "code",
   "execution_count": 24,
   "id": "ee3317a5-acb7-412e-abf9-4466fd561251",
   "metadata": {},
   "outputs": [
    {
     "data": {
      "text/plain": [
       "'s'"
      ]
     },
     "execution_count": 24,
     "metadata": {},
     "output_type": "execute_result"
    }
   ],
   "source": [
    "s[2]"
   ]
  },
  {
   "cell_type": "code",
   "execution_count": 25,
   "id": "b218e0fd-c953-42cc-ad9b-dc41846b347d",
   "metadata": {},
   "outputs": [
    {
     "data": {
      "text/plain": [
       "'w'"
      ]
     },
     "execution_count": 25,
     "metadata": {},
     "output_type": "execute_result"
    }
   ],
   "source": [
    "s[1]"
   ]
  },
  {
   "cell_type": "code",
   "execution_count": 5,
   "id": "0f83ce31-a0f0-4f06-bc90-1a4c46eb4ee7",
   "metadata": {},
   "outputs": [],
   "source": [
    "b = \"pwskill\""
   ]
  },
  {
   "cell_type": "code",
   "execution_count": 6,
   "id": "6a598ab1-0b78-490e-8a03-ee3a46a620b1",
   "metadata": {},
   "outputs": [
    {
     "data": {
      "text/plain": [
       "'k'"
      ]
     },
     "execution_count": 6,
     "metadata": {},
     "output_type": "execute_result"
    }
   ],
   "source": [
    "b[3]"
   ]
  },
  {
   "cell_type": "code",
   "execution_count": 7,
   "id": "3be38618-c778-4a45-ac79-d1b6bcc2ba83",
   "metadata": {},
   "outputs": [
    {
     "data": {
      "text/plain": [
       "'l'"
      ]
     },
     "execution_count": 7,
     "metadata": {},
     "output_type": "execute_result"
    }
   ],
   "source": [
    "b[-2]"
   ]
  },
  {
   "cell_type": "code",
   "execution_count": 8,
   "id": "0c45cf6d-b79e-4561-9385-ac1dfeb9c484",
   "metadata": {},
   "outputs": [
    {
     "data": {
      "text/plain": [
       "'w'"
      ]
     },
     "execution_count": 8,
     "metadata": {},
     "output_type": "execute_result"
    }
   ],
   "source": [
    "b[-6]"
   ]
  },
  {
   "cell_type": "code",
   "execution_count": 9,
   "id": "5b05dcc8-8560-4244-998e-ef700874c6bf",
   "metadata": {},
   "outputs": [
    {
     "data": {
      "text/plain": [
       "'pws'"
      ]
     },
     "execution_count": 9,
     "metadata": {},
     "output_type": "execute_result"
    }
   ],
   "source": [
    "b[0:3]"
   ]
  },
  {
   "cell_type": "code",
   "execution_count": 10,
   "id": "409e6477-f07b-49a9-8357-bb0b053f33be",
   "metadata": {},
   "outputs": [
    {
     "data": {
      "text/plain": [
       "'ki'"
      ]
     },
     "execution_count": 10,
     "metadata": {},
     "output_type": "execute_result"
    }
   ],
   "source": [
    "b[3:5]"
   ]
  },
  {
   "cell_type": "code",
   "execution_count": 11,
   "id": "6a0c0f5c-abbb-481b-93c7-6ff52e03b44e",
   "metadata": {},
   "outputs": [
    {
     "data": {
      "text/plain": [
       "'psil'"
      ]
     },
     "execution_count": 11,
     "metadata": {},
     "output_type": "execute_result"
    }
   ],
   "source": [
    "b[0:8:2]"
   ]
  },
  {
   "cell_type": "code",
   "execution_count": 13,
   "id": "4e291823-5af3-415d-920b-fc02a5e0886b",
   "metadata": {},
   "outputs": [],
   "source": [
    "k = \"class\""
   ]
  },
  {
   "cell_type": "code",
   "execution_count": 14,
   "id": "82657012-e20e-459f-8aee-c0b5f73a1059",
   "metadata": {},
   "outputs": [
    {
     "data": {
      "text/plain": [
       "'cas'"
      ]
     },
     "execution_count": 14,
     "metadata": {},
     "output_type": "execute_result"
    }
   ],
   "source": [
    "k[0:5:2]"
   ]
  },
  {
   "cell_type": "code",
   "execution_count": 15,
   "id": "657af367-5145-4164-af72-4c38cf70f86d",
   "metadata": {},
   "outputs": [
    {
     "data": {
      "text/plain": [
       "'ls'"
      ]
     },
     "execution_count": 15,
     "metadata": {},
     "output_type": "execute_result"
    }
   ],
   "source": [
    "k[1:4:2]"
   ]
  },
  {
   "cell_type": "code",
   "execution_count": 16,
   "id": "47fabe27-c5cb-431d-831b-143d6105e75b",
   "metadata": {},
   "outputs": [],
   "source": [
    "k =\"elephant\""
   ]
  },
  {
   "cell_type": "code",
   "execution_count": 17,
   "id": "aa1d5bbd-a4d8-4cd3-a533-616db5ecceea",
   "metadata": {},
   "outputs": [
    {
     "data": {
      "text/plain": [
       "'eehn'"
      ]
     },
     "execution_count": 17,
     "metadata": {},
     "output_type": "execute_result"
    }
   ],
   "source": [
    "k[::2]"
   ]
  },
  {
   "cell_type": "code",
   "execution_count": 18,
   "id": "e7294c9e-bab1-4cf9-bcae-d923c76f068f",
   "metadata": {},
   "outputs": [
    {
     "data": {
      "text/plain": [
       "'pn'"
      ]
     },
     "execution_count": 18,
     "metadata": {},
     "output_type": "execute_result"
    }
   ],
   "source": [
    "k[3::3]"
   ]
  },
  {
   "cell_type": "code",
   "execution_count": 19,
   "id": "ea8b0d45-6a9a-449a-ad30-86a7c38059ef",
   "metadata": {},
   "outputs": [
    {
     "ename": "ValueError",
     "evalue": "slice step cannot be zero",
     "output_type": "error",
     "traceback": [
      "\u001b[0;31m---------------------------------------------------------------------------\u001b[0m",
      "\u001b[0;31mValueError\u001b[0m                                Traceback (most recent call last)",
      "Cell \u001b[0;32mIn[19], line 1\u001b[0m\n\u001b[0;32m----> 1\u001b[0m \u001b[43mk\u001b[49m\u001b[43m[\u001b[49m\u001b[38;5;241;43m3\u001b[39;49m\u001b[43m:\u001b[49m\u001b[43m:\u001b[49m\u001b[38;5;241;43m0\u001b[39;49m\u001b[43m]\u001b[49m\n",
      "\u001b[0;31mValueError\u001b[0m: slice step cannot be zero"
     ]
    }
   ],
   "source": [
    "k[3::0]"
   ]
  },
  {
   "cell_type": "code",
   "execution_count": 20,
   "id": "bd82f5f6-18f9-4053-92dd-116c4bb4e206",
   "metadata": {},
   "outputs": [
    {
     "data": {
      "text/plain": [
       "'tnahpele'"
      ]
     },
     "execution_count": 20,
     "metadata": {},
     "output_type": "execute_result"
    }
   ],
   "source": [
    "k[::-1]"
   ]
  },
  {
   "cell_type": "code",
   "execution_count": 21,
   "id": "077fb8d0-db8c-46c1-aac2-fd5b3b06d362",
   "metadata": {},
   "outputs": [
    {
     "data": {
      "text/plain": [
       "''"
      ]
     },
     "execution_count": 21,
     "metadata": {},
     "output_type": "execute_result"
    }
   ],
   "source": [
    "k[2:7:-1]"
   ]
  },
  {
   "cell_type": "code",
   "execution_count": 22,
   "id": "0682341c-9d28-4cf0-aefa-42f4aecdd58f",
   "metadata": {},
   "outputs": [
    {
     "data": {
      "text/plain": [
       "''"
      ]
     },
     "execution_count": 22,
     "metadata": {},
     "output_type": "execute_result"
    }
   ],
   "source": [
    "k[7:0]"
   ]
  },
  {
   "cell_type": "code",
   "execution_count": 23,
   "id": "fc04c0a4-f9ec-43a5-8cf2-183a687da4a9",
   "metadata": {},
   "outputs": [
    {
     "data": {
      "text/plain": [
       "'tnahpel'"
      ]
     },
     "execution_count": 23,
     "metadata": {},
     "output_type": "execute_result"
    }
   ],
   "source": [
    "k[8:0:-1] "
   ]
  },
  {
   "cell_type": "code",
   "execution_count": 2,
   "id": "2f7b3035-d913-481d-b4d8-cdd15ca4d8ed",
   "metadata": {},
   "outputs": [],
   "source": [
    "s = \"pwskills\""
   ]
  },
  {
   "cell_type": "code",
   "execution_count": 4,
   "id": "5c732547-9b62-4f1d-bc6d-4c36d97354d0",
   "metadata": {},
   "outputs": [
    {
     "data": {
      "text/plain": [
       "''"
      ]
     },
     "execution_count": 4,
     "metadata": {},
     "output_type": "execute_result"
    }
   ],
   "source": [
    "s[-2:-8:1]"
   ]
  },
  {
   "cell_type": "code",
   "execution_count": 5,
   "id": "185296f6-d704-4949-94d0-0c4652d92dae",
   "metadata": {},
   "outputs": [
    {
     "data": {
      "text/plain": [
       "'likswp'"
      ]
     },
     "execution_count": 5,
     "metadata": {},
     "output_type": "execute_result"
    }
   ],
   "source": [
    "s[-2:-8:-1]"
   ]
  },
  {
   "cell_type": "code",
   "execution_count": 6,
   "id": "60417cd5-c559-4a4d-9d04-42e6343d25f9",
   "metadata": {},
   "outputs": [
    {
     "data": {
      "text/plain": [
       "'llikswp'"
      ]
     },
     "execution_count": 6,
     "metadata": {},
     "output_type": "execute_result"
    }
   ],
   "source": [
    "s[::-1]"
   ]
  },
  {
   "cell_type": "code",
   "execution_count": 7,
   "id": "4a14ce27-23ca-4981-8753-f78b80421206",
   "metadata": {},
   "outputs": [
    {
     "data": {
      "text/plain": [
       "'pwskill'"
      ]
     },
     "execution_count": 7,
     "metadata": {},
     "output_type": "execute_result"
    }
   ],
   "source": [
    "s[::]"
   ]
  },
  {
   "cell_type": "code",
   "execution_count": 8,
   "id": "bceec693-0586-4f9e-a6cf-6c04d150ce33",
   "metadata": {},
   "outputs": [
    {
     "ename": "IndexError",
     "evalue": "string index out of range",
     "output_type": "error",
     "traceback": [
      "\u001b[0;31m---------------------------------------------------------------------------\u001b[0m",
      "\u001b[0;31mIndexError\u001b[0m                                Traceback (most recent call last)",
      "Cell \u001b[0;32mIn[8], line 1\u001b[0m\n\u001b[0;32m----> 1\u001b[0m \u001b[43ms\u001b[49m\u001b[43m[\u001b[49m\u001b[38;5;241;43m90\u001b[39;49m\u001b[43m]\u001b[49m\n",
      "\u001b[0;31mIndexError\u001b[0m: string index out of range"
     ]
    }
   ],
   "source": [
    "s[90]"
   ]
  },
  {
   "cell_type": "code",
   "execution_count": 10,
   "id": "bd478a21-2eb6-4e0e-b2cd-712fc6cd4b69",
   "metadata": {},
   "outputs": [
    {
     "data": {
      "text/plain": [
       "'pwskill'"
      ]
     },
     "execution_count": 10,
     "metadata": {},
     "output_type": "execute_result"
    }
   ],
   "source": [
    "s[:90:1]"
   ]
  },
  {
   "cell_type": "code",
   "execution_count": 12,
   "id": "9cf14ae9-83b2-4a31-8fc7-0ce5c8f224a8",
   "metadata": {},
   "outputs": [
    {
     "data": {
      "text/plain": [
       "'llikswp'"
      ]
     },
     "execution_count": 12,
     "metadata": {},
     "output_type": "execute_result"
    }
   ],
   "source": [
    "s[:-900:-1]"
   ]
  },
  {
   "cell_type": "code",
   "execution_count": 19,
   "id": "76920042-94c1-4e25-ae88-e1b91cb82564",
   "metadata": {},
   "outputs": [],
   "source": [
    "s1 = \"this is my string class\" "
   ]
  },
  {
   "cell_type": "code",
   "execution_count": 20,
   "id": "459e1ed7-340c-47b2-b5cb-6517b8228f59",
   "metadata": {},
   "outputs": [
    {
     "data": {
      "text/plain": [
       "23"
      ]
     },
     "execution_count": 20,
     "metadata": {},
     "output_type": "execute_result"
    }
   ],
   "source": [
    "len(s1)"
   ]
  },
  {
   "cell_type": "code",
   "execution_count": 21,
   "id": "6dd10cb7-97bd-47a7-90c2-6c42075524e9",
   "metadata": {},
   "outputs": [
    {
     "data": {
      "text/plain": [
       "3"
      ]
     },
     "execution_count": 21,
     "metadata": {},
     "output_type": "execute_result"
    }
   ],
   "source": [
    "s1.find('s')"
   ]
  },
  {
   "cell_type": "code",
   "execution_count": 22,
   "id": "ee245705-08df-418c-bceb-d9bbdd02e30d",
   "metadata": {},
   "outputs": [
    {
     "data": {
      "text/plain": [
       "2"
      ]
     },
     "execution_count": 22,
     "metadata": {},
     "output_type": "execute_result"
    }
   ],
   "source": [
    "s1.find('i')"
   ]
  },
  {
   "cell_type": "code",
   "execution_count": 23,
   "id": "b427e11a-e1b6-4d62-aaf5-ccdd92c93187",
   "metadata": {},
   "outputs": [
    {
     "data": {
      "text/plain": [
       "2"
      ]
     },
     "execution_count": 23,
     "metadata": {},
     "output_type": "execute_result"
    }
   ],
   "source": [
    "s1.find(\"is\")"
   ]
  },
  {
   "cell_type": "code",
   "execution_count": 4,
   "id": "eb308f77-72f3-4897-8848-fd2fac0fb905",
   "metadata": {},
   "outputs": [],
   "source": [
    "s1 = \"this is my string class\""
   ]
  },
  {
   "cell_type": "code",
   "execution_count": 5,
   "id": "8adb50e4-391f-4424-80a4-0e4ab0b70ea6",
   "metadata": {},
   "outputs": [
    {
     "data": {
      "text/plain": [
       "5"
      ]
     },
     "execution_count": 5,
     "metadata": {},
     "output_type": "execute_result"
    }
   ],
   "source": [
    "s1.count('s')"
   ]
  },
  {
   "cell_type": "code",
   "execution_count": 6,
   "id": "40a4700b-73fb-4550-9060-0052cb4bb901",
   "metadata": {},
   "outputs": [
    {
     "data": {
      "text/plain": [
       "'this is my string class'"
      ]
     },
     "execution_count": 6,
     "metadata": {},
     "output_type": "execute_result"
    }
   ],
   "source": [
    "s1"
   ]
  },
  {
   "cell_type": "code",
   "execution_count": 7,
   "id": "1cd2ee52-2126-440d-9c71-da75e7886f85",
   "metadata": {},
   "outputs": [
    {
     "data": {
      "text/plain": [
       "1"
      ]
     },
     "execution_count": 7,
     "metadata": {},
     "output_type": "execute_result"
    }
   ],
   "source": [
    "s1.count(\"stri\")"
   ]
  },
  {
   "cell_type": "code",
   "execution_count": 8,
   "id": "467e5af2-8a01-4b63-954c-8aa6e5a8d87b",
   "metadata": {},
   "outputs": [
    {
     "data": {
      "text/plain": [
       "'THIS IS MY STRING CLASS'"
      ]
     },
     "execution_count": 8,
     "metadata": {},
     "output_type": "execute_result"
    }
   ],
   "source": [
    "s1.upper()"
   ]
  },
  {
   "cell_type": "code",
   "execution_count": 9,
   "id": "04224be4-fa0d-4e0f-98f4-1e784a6bd127",
   "metadata": {},
   "outputs": [
    {
     "data": {
      "text/plain": [
       "'this is my string class'"
      ]
     },
     "execution_count": 9,
     "metadata": {},
     "output_type": "execute_result"
    }
   ],
   "source": [
    "s1.lower()"
   ]
  },
  {
   "cell_type": "code",
   "execution_count": 10,
   "id": "96613bda-2109-44f6-aa68-584c06ee8a21",
   "metadata": {},
   "outputs": [
    {
     "data": {
      "text/plain": [
       "'this is my string class'"
      ]
     },
     "execution_count": 10,
     "metadata": {},
     "output_type": "execute_result"
    }
   ],
   "source": [
    "s1"
   ]
  },
  {
   "cell_type": "code",
   "execution_count": 12,
   "id": "f3be906e-478b-4b83-be4a-a3ebb68154db",
   "metadata": {},
   "outputs": [
    {
     "data": {
      "text/plain": [
       "'This Is My String Class'"
      ]
     },
     "execution_count": 12,
     "metadata": {},
     "output_type": "execute_result"
    }
   ],
   "source": [
    "s1.title()"
   ]
  },
  {
   "cell_type": "code",
   "execution_count": 15,
   "id": "20b76e97-fe24-4b50-aa46-c44b6227ead7",
   "metadata": {},
   "outputs": [
    {
     "data": {
      "text/plain": [
       "'This is my string class'"
      ]
     },
     "execution_count": 15,
     "metadata": {},
     "output_type": "execute_result"
    }
   ],
   "source": [
    "s1.capitalize()"
   ]
  },
  {
   "cell_type": "code",
   "execution_count": 16,
   "id": "f6c878da-7ba3-4194-a3b0-3ad3de9c30df",
   "metadata": {},
   "outputs": [
    {
     "data": {
      "text/plain": [
       "'this is my string class'"
      ]
     },
     "execution_count": 16,
     "metadata": {},
     "output_type": "execute_result"
    }
   ],
   "source": [
    "s"
   ]
  },
  {
   "cell_type": "code",
   "execution_count": 17,
   "id": "6a79aac1-61df-442c-b83c-c4d49a5d019f",
   "metadata": {},
   "outputs": [
    {
     "ename": "TypeError",
     "evalue": "can only concatenate str (not \"int\") to str",
     "output_type": "error",
     "traceback": [
      "\u001b[0;31m---------------------------------------------------------------------------\u001b[0m",
      "\u001b[0;31mTypeError\u001b[0m                                 Traceback (most recent call last)",
      "Cell \u001b[0;32mIn[17], line 1\u001b[0m\n\u001b[0;32m----> 1\u001b[0m \u001b[43ms\u001b[49m\u001b[38;5;241;43m+\u001b[39;49m\u001b[38;5;241;43m1\u001b[39;49m\n",
      "\u001b[0;31mTypeError\u001b[0m: can only concatenate str (not \"int\") to str"
     ]
    }
   ],
   "source": [
    "s+1"
   ]
  },
  {
   "cell_type": "code",
   "execution_count": 18,
   "id": "b614e0ab-0e6d-4e9c-8f9c-4876c7d4deb6",
   "metadata": {},
   "outputs": [
    {
     "data": {
      "text/plain": [
       "'this is my string class1'"
      ]
     },
     "execution_count": 18,
     "metadata": {},
     "output_type": "execute_result"
    }
   ],
   "source": [
    "s+'1'"
   ]
  },
  {
   "cell_type": "code",
   "execution_count": 19,
   "id": "fcff7052-13df-423c-9d26-9aece596a045",
   "metadata": {},
   "outputs": [
    {
     "data": {
      "text/plain": [
       "'this is my string class 1'"
      ]
     },
     "execution_count": 19,
     "metadata": {},
     "output_type": "execute_result"
    }
   ],
   "source": [
    "s+' 1'"
   ]
  },
  {
   "cell_type": "code",
   "execution_count": 21,
   "id": "fe880f59-42dd-43dc-ae95-21bd2cf1477c",
   "metadata": {},
   "outputs": [
    {
     "data": {
      "text/plain": [
       "'this is my string class 1'"
      ]
     },
     "execution_count": 21,
     "metadata": {},
     "output_type": "execute_result"
    }
   ],
   "source": [
    "s+str(\" 1\")"
   ]
  },
  {
   "cell_type": "code",
   "execution_count": 25,
   "id": "36a458fb-e3af-4c07-8145-cc8f8f595d17",
   "metadata": {},
   "outputs": [
    {
     "data": {
      "text/plain": [
       "'this is my string classthis is my string classthis is my string class'"
      ]
     },
     "execution_count": 25,
     "metadata": {},
     "output_type": "execute_result"
    }
   ],
   "source": [
    "s   *   3"
   ]
  },
  {
   "cell_type": "code",
   "execution_count": 26,
   "id": "6e81ecee-03c5-4991-8bad-5dc9740fed23",
   "metadata": {},
   "outputs": [
    {
     "data": {
      "text/plain": [
       "'vishalvishal'"
      ]
     },
     "execution_count": 26,
     "metadata": {},
     "output_type": "execute_result"
    }
   ],
   "source": [
    "'vishal' * 2"
   ]
  },
  {
   "cell_type": "code",
   "execution_count": 27,
   "id": "c4cc3c02-3a50-4a21-8e04-bec8fcfac251",
   "metadata": {},
   "outputs": [
    {
     "ename": "TypeError",
     "evalue": "unsupported operand type(s) for /: 'str' and 'int'",
     "output_type": "error",
     "traceback": [
      "\u001b[0;31m---------------------------------------------------------------------------\u001b[0m",
      "\u001b[0;31mTypeError\u001b[0m                                 Traceback (most recent call last)",
      "Cell \u001b[0;32mIn[27], line 1\u001b[0m\n\u001b[0;32m----> 1\u001b[0m \u001b[38;5;124;43m\"\u001b[39;49m\u001b[38;5;124;43mvishal\u001b[39;49m\u001b[38;5;124;43m\"\u001b[39;49m\u001b[43m \u001b[49m\u001b[38;5;241;43m/\u001b[39;49m\u001b[43m \u001b[49m\u001b[38;5;241;43m2\u001b[39;49m\n",
      "\u001b[0;31mTypeError\u001b[0m: unsupported operand type(s) for /: 'str' and 'int'"
     ]
    }
   ],
   "source": [
    "\"vishal\" / 2"
   ]
  },
  {
   "cell_type": "code",
   "execution_count": 2,
   "id": "a5d31978-5283-4c3b-9387-642ea52c2b9a",
   "metadata": {},
   "outputs": [
    {
     "ename": "SyntaxError",
     "evalue": "unterminated string literal (detected at line 1) (543028083.py, line 1)",
     "output_type": "error",
     "traceback": [
      "\u001b[0;36m  Cell \u001b[0;32mIn[2], line 1\u001b[0;36m\u001b[0m\n\u001b[0;31m    'don't do copy and paste in  my class'\u001b[0m\n\u001b[0m                                         ^\u001b[0m\n\u001b[0;31mSyntaxError\u001b[0m\u001b[0;31m:\u001b[0m unterminated string literal (detected at line 1)\n"
     ]
    }
   ],
   "source": [
    "'don't do copy and paste in  my class'"
   ]
  },
  {
   "cell_type": "code",
   "execution_count": 3,
   "id": "a81c273e-cc0a-4de8-b6fe-511c256dd87e",
   "metadata": {},
   "outputs": [
    {
     "data": {
      "text/plain": [
       "\"don't do copy and paste in  my class\""
      ]
     },
     "execution_count": 3,
     "metadata": {},
     "output_type": "execute_result"
    }
   ],
   "source": [
    "\"don't do copy and paste in  my class\""
   ]
  },
  {
   "cell_type": "code",
   "execution_count": 4,
   "id": "8b95dd0f-adb5-4790-8cec-bcb7e223d140",
   "metadata": {},
   "outputs": [
    {
     "data": {
      "text/plain": [
       "' i haave leant varibles declaration , data type , string , int , boolen , complex number\\ni have  seen some example of string slicing and indixing '"
      ]
     },
     "execution_count": 4,
     "metadata": {},
     "output_type": "execute_result"
    }
   ],
   "source": [
    "# this is my fist programming class \n",
    "s3 = ''' i haave leant varibles declaration , data type , string , int , boolen , complex number\n",
    "i have  seen some example of string slicing and indixing ''' "
   ]
  },
  {
   "cell_type": "code",
   "execution_count": null,
   "id": "82737c90-e03a-4522-aa51-d073a1a43366",
   "metadata": {},
   "outputs": [],
   "source": []
  },
  {
   "cell_type": "code",
   "execution_count": 6,
   "id": "396f82df-a426-480a-ad71-931e8371f12d",
   "metadata": {},
   "outputs": [],
   "source": [
    "## 2nd class[list , tuple and set ]"
   ]
  },
  {
   "cell_type": "code",
   "execution_count": 10,
   "id": "83af656e-aa11-47ac-86a1-b1a6b927dce9",
   "metadata": {},
   "outputs": [],
   "source": [
    "l = [1,345,\"vishal\",True,5+6j,3.456]"
   ]
  },
  {
   "cell_type": "code",
   "execution_count": 11,
   "id": "8bae3c62-090f-4436-86ea-2b8bc1b6c856",
   "metadata": {},
   "outputs": [
    {
     "data": {
      "text/plain": [
       "list"
      ]
     },
     "execution_count": 11,
     "metadata": {},
     "output_type": "execute_result"
    }
   ],
   "source": [
    "type(l)"
   ]
  },
  {
   "cell_type": "code",
   "execution_count": 15,
   "id": "054a1333-6845-4642-9c36-71961653e607",
   "metadata": {},
   "outputs": [
    {
     "data": {
      "text/plain": [
       "345"
      ]
     },
     "execution_count": 15,
     "metadata": {},
     "output_type": "execute_result"
    }
   ],
   "source": [
    "l[1]"
   ]
  },
  {
   "cell_type": "code",
   "execution_count": 16,
   "id": "19c8cf61-4a39-4c5b-a424-77bba0c32a70",
   "metadata": {},
   "outputs": [
    {
     "data": {
      "text/plain": [
       "3.456"
      ]
     },
     "execution_count": 16,
     "metadata": {},
     "output_type": "execute_result"
    }
   ],
   "source": [
    "l[5]"
   ]
  },
  {
   "cell_type": "code",
   "execution_count": 17,
   "id": "c61e6c02-e64a-4485-8a1b-c93182a05766",
   "metadata": {},
   "outputs": [
    {
     "ename": "IndexError",
     "evalue": "list index out of range",
     "output_type": "error",
     "traceback": [
      "\u001b[0;31m---------------------------------------------------------------------------\u001b[0m",
      "\u001b[0;31mIndexError\u001b[0m                                Traceback (most recent call last)",
      "Cell \u001b[0;32mIn[17], line 1\u001b[0m\n\u001b[0;32m----> 1\u001b[0m \u001b[43ml\u001b[49m\u001b[43m[\u001b[49m\u001b[38;5;241;43m90\u001b[39;49m\u001b[43m]\u001b[49m\n",
      "\u001b[0;31mIndexError\u001b[0m: list index out of range"
     ]
    }
   ],
   "source": [
    "l[90]"
   ]
  },
  {
   "cell_type": "code",
   "execution_count": 19,
   "id": "2553d47c-44a3-4613-b98b-18c18e51d5f2",
   "metadata": {},
   "outputs": [
    {
     "data": {
      "text/plain": [
       "[1, 345, 'vishal']"
      ]
     },
     "execution_count": 19,
     "metadata": {},
     "output_type": "execute_result"
    }
   ],
   "source": [
    "l[0:3:1]"
   ]
  },
  {
   "cell_type": "code",
   "execution_count": 20,
   "id": "c52e298f-58a9-4f3d-9d24-b40a27cc124a",
   "metadata": {},
   "outputs": [
    {
     "data": {
      "text/plain": [
       "3.456"
      ]
     },
     "execution_count": 20,
     "metadata": {},
     "output_type": "execute_result"
    }
   ],
   "source": [
    "l[-1]"
   ]
  },
  {
   "cell_type": "code",
   "execution_count": 21,
   "id": "42cd5992-d264-491d-9f2a-dfe2c3705c6a",
   "metadata": {},
   "outputs": [
    {
     "data": {
      "text/plain": [
       "[3.456, (5+6j), True, 'vishal', 345, 1]"
      ]
     },
     "execution_count": 21,
     "metadata": {},
     "output_type": "execute_result"
    }
   ],
   "source": [
    "l[::-1]"
   ]
  },
  {
   "cell_type": "code",
   "execution_count": 23,
   "id": "2903590a-241a-4da7-87d4-cb6f1f38725f",
   "metadata": {},
   "outputs": [
    {
     "data": {
      "text/plain": [
       "[1, 'vishal', (5+6j)]"
      ]
     },
     "execution_count": 23,
     "metadata": {},
     "output_type": "execute_result"
    }
   ],
   "source": [
    "l[::2]"
   ]
  },
  {
   "cell_type": "code",
   "execution_count": 24,
   "id": "5fd264c9-9f20-4472-8d9b-23e8b0af16a9",
   "metadata": {},
   "outputs": [
    {
     "data": {
      "text/plain": [
       "[1, True]"
      ]
     },
     "execution_count": 24,
     "metadata": {},
     "output_type": "execute_result"
    }
   ],
   "source": [
    "l[::3]"
   ]
  },
  {
   "cell_type": "code",
   "execution_count": 2,
   "id": "16ba917f-8df4-4015-b81e-2d0dc60fb9df",
   "metadata": {},
   "outputs": [],
   "source": [
    "l = [1,345,\"vishal\",True,5+6j,3.456]"
   ]
  },
  {
   "cell_type": "code",
   "execution_count": 3,
   "id": "7c40e382-f4ad-4cf0-a5b6-01bbcbddc742",
   "metadata": {},
   "outputs": [
    {
     "data": {
      "text/plain": [
       "[1, 345, 'vishal', True, (5+6j), 3.456]"
      ]
     },
     "execution_count": 3,
     "metadata": {},
     "output_type": "execute_result"
    }
   ],
   "source": [
    "l"
   ]
  },
  {
   "cell_type": "code",
   "execution_count": 4,
   "id": "481b3729-92de-456f-add7-027edc54fc5f",
   "metadata": {},
   "outputs": [],
   "source": [
    "s = \"pwskill\""
   ]
  },
  {
   "cell_type": "code",
   "execution_count": 5,
   "id": "cc2c6d35-89ff-4061-af04-90a337511bab",
   "metadata": {},
   "outputs": [
    {
     "ename": "TypeError",
     "evalue": "can only concatenate list (not \"str\") to list",
     "output_type": "error",
     "traceback": [
      "\u001b[0;31m---------------------------------------------------------------------------\u001b[0m",
      "\u001b[0;31mTypeError\u001b[0m                                 Traceback (most recent call last)",
      "Cell \u001b[0;32mIn[5], line 1\u001b[0m\n\u001b[0;32m----> 1\u001b[0m \u001b[43ml\u001b[49m\u001b[38;5;241;43m+\u001b[39;49m\u001b[43ms\u001b[49m\n",
      "\u001b[0;31mTypeError\u001b[0m: can only concatenate list (not \"str\") to list"
     ]
    }
   ],
   "source": [
    "l+s"
   ]
  },
  {
   "cell_type": "code",
   "execution_count": 6,
   "id": "a26c91de-2be4-4447-89c9-84a8247b5ac8",
   "metadata": {},
   "outputs": [
    {
     "data": {
      "text/plain": [
       "['p', 'w', 's', 'k', 'i', 'l', 'l']"
      ]
     },
     "execution_count": 6,
     "metadata": {},
     "output_type": "execute_result"
    }
   ],
   "source": [
    "list(s)"
   ]
  },
  {
   "cell_type": "code",
   "execution_count": 7,
   "id": "7706fc6c-13e7-4ce8-9034-54864fb596db",
   "metadata": {},
   "outputs": [
    {
     "data": {
      "text/plain": [
       "['p', 'w', 's', 'k', 'i', 'l', 'l', 1, 345, 'vishal', True, (5+6j), 3.456]"
      ]
     },
     "execution_count": 7,
     "metadata": {},
     "output_type": "execute_result"
    }
   ],
   "source": [
    "list(s)+l"
   ]
  },
  {
   "cell_type": "code",
   "execution_count": 8,
   "id": "98c9bb21-bae9-4006-8ed9-8d24010c4bb5",
   "metadata": {},
   "outputs": [
    {
     "data": {
      "text/plain": [
       "[1, 345, 'vishal', True, (5+6j), 3.456]"
      ]
     },
     "execution_count": 8,
     "metadata": {},
     "output_type": "execute_result"
    }
   ],
   "source": [
    "l"
   ]
  },
  {
   "cell_type": "code",
   "execution_count": 9,
   "id": "128388bb-042f-44f1-bc5b-fc1a7b0923a4",
   "metadata": {},
   "outputs": [
    {
     "data": {
      "text/plain": [
       "'vishal'"
      ]
     },
     "execution_count": 9,
     "metadata": {},
     "output_type": "execute_result"
    }
   ],
   "source": [
    "l[2]"
   ]
  },
  {
   "cell_type": "code",
   "execution_count": 13,
   "id": "bc060db9-7ed9-4437-950e-ab9fcb2e4b51",
   "metadata": {},
   "outputs": [
    {
     "data": {
      "text/plain": [
       "'vi'"
      ]
     },
     "execution_count": 13,
     "metadata": {},
     "output_type": "execute_result"
    }
   ],
   "source": [
    "l[2][0:2]"
   ]
  },
  {
   "cell_type": "code",
   "execution_count": 14,
   "id": "981173ed-4857-4561-be07-e84c5b809030",
   "metadata": {},
   "outputs": [
    {
     "data": {
      "text/plain": [
       "True"
      ]
     },
     "execution_count": 14,
     "metadata": {},
     "output_type": "execute_result"
    }
   ],
   "source": [
    "l[3]"
   ]
  },
  {
   "cell_type": "code",
   "execution_count": 20,
   "id": "3bc27fe8-2b80-4bd5-8cbd-9b31a8bc1ffd",
   "metadata": {},
   "outputs": [
    {
     "data": {
      "text/plain": [
       "'Tr'"
      ]
     },
     "execution_count": 20,
     "metadata": {},
     "output_type": "execute_result"
    }
   ],
   "source": [
    "str(l[3])[0:2]"
   ]
  },
  {
   "cell_type": "code",
   "execution_count": 21,
   "id": "3ca77159-431e-4640-b60a-c9a6d01ed548",
   "metadata": {},
   "outputs": [
    {
     "data": {
      "text/plain": [
       "[1, 345, 'vishal', True, (5+6j), 3.456]"
      ]
     },
     "execution_count": 21,
     "metadata": {},
     "output_type": "execute_result"
    }
   ],
   "source": [
    "l"
   ]
  },
  {
   "cell_type": "code",
   "execution_count": 22,
   "id": "457c5aa0-f0c2-4c8a-af21-f40186012580",
   "metadata": {},
   "outputs": [
    {
     "ename": "TypeError",
     "evalue": "can only concatenate list (not \"int\") to list",
     "output_type": "error",
     "traceback": [
      "\u001b[0;31m---------------------------------------------------------------------------\u001b[0m",
      "\u001b[0;31mTypeError\u001b[0m                                 Traceback (most recent call last)",
      "Cell \u001b[0;32mIn[22], line 1\u001b[0m\n\u001b[0;32m----> 1\u001b[0m \u001b[43ml\u001b[49m\u001b[43m \u001b[49m\u001b[38;5;241;43m+\u001b[39;49m\u001b[43m \u001b[49m\u001b[38;5;241;43m5\u001b[39;49m\n",
      "\u001b[0;31mTypeError\u001b[0m: can only concatenate list (not \"int\") to list"
     ]
    }
   ],
   "source": [
    "l + 5"
   ]
  },
  {
   "cell_type": "code",
   "execution_count": 23,
   "id": "6105ddae-1584-44ec-b774-e6ff3bbb0136",
   "metadata": {},
   "outputs": [
    {
     "data": {
      "text/plain": [
       "[1, 345, 'vishal', True, (5+6j), 3.456]"
      ]
     },
     "execution_count": 23,
     "metadata": {},
     "output_type": "execute_result"
    }
   ],
   "source": [
    "l"
   ]
  },
  {
   "cell_type": "code",
   "execution_count": 24,
   "id": "495b7415-0656-45f0-999f-9a2472be3fc2",
   "metadata": {},
   "outputs": [],
   "source": [
    "l1 = [ 3,4,5]"
   ]
  },
  {
   "cell_type": "code",
   "execution_count": 25,
   "id": "46902ae7-d8db-4d53-8328-d1d8ad2496e7",
   "metadata": {},
   "outputs": [
    {
     "data": {
      "text/plain": [
       "[1, 345, 'vishal', True, (5+6j), 3.456, 3, 4, 5]"
      ]
     },
     "execution_count": 25,
     "metadata": {},
     "output_type": "execute_result"
    }
   ],
   "source": [
    "l+l1"
   ]
  },
  {
   "cell_type": "code",
   "execution_count": 26,
   "id": "5a21c61e-51f9-45b3-88d6-0f704070b339",
   "metadata": {},
   "outputs": [
    {
     "data": {
      "text/plain": [
       "[3, 4, 5, 3, 4, 5, 3, 4, 5]"
      ]
     },
     "execution_count": 26,
     "metadata": {},
     "output_type": "execute_result"
    }
   ],
   "source": [
    "l1 * 3"
   ]
  },
  {
   "cell_type": "code",
   "execution_count": 27,
   "id": "9d34702c-1cff-4109-beaa-01162b50c8ef",
   "metadata": {},
   "outputs": [
    {
     "data": {
      "text/plain": [
       "6"
      ]
     },
     "execution_count": 27,
     "metadata": {},
     "output_type": "execute_result"
    }
   ],
   "source": [
    "len(l)"
   ]
  },
  {
   "cell_type": "code",
   "execution_count": 32,
   "id": "1301b0b3-5409-4006-888d-6850b6b5a20f",
   "metadata": {},
   "outputs": [
    {
     "data": {
      "text/plain": [
       "[1, 345, 'vishal', True, (5+6j), 3.456, 5]"
      ]
     },
     "execution_count": 32,
     "metadata": {},
     "output_type": "execute_result"
    }
   ],
   "source": [
    "l"
   ]
  },
  {
   "cell_type": "code",
   "execution_count": 37,
   "id": "99223cf2-e893-4229-8ebe-f7471981b739",
   "metadata": {},
   "outputs": [
    {
     "data": {
      "text/plain": [
       "[1, 345, 'vishal', True, (5+6j), 3.456, 5, 5, 5, 6, 6]"
      ]
     },
     "execution_count": 37,
     "metadata": {},
     "output_type": "execute_result"
    }
   ],
   "source": [
    "l"
   ]
  },
  {
   "cell_type": "code",
   "execution_count": 38,
   "id": "1d82f425-3c02-4e22-87d5-771d170e31d1",
   "metadata": {},
   "outputs": [],
   "source": [
    "l.append(5)"
   ]
  },
  {
   "cell_type": "code",
   "execution_count": 39,
   "id": "2e347b04-53b0-4eb5-98c2-6f40f75ae527",
   "metadata": {},
   "outputs": [],
   "source": [
    "l.append(7)"
   ]
  },
  {
   "cell_type": "code",
   "execution_count": 40,
   "id": "cb6e2531-5faf-4ec8-b786-1dce7c83c3bd",
   "metadata": {},
   "outputs": [
    {
     "data": {
      "text/plain": [
       "[1, 345, 'vishal', True, (5+6j), 3.456, 5, 5, 5, 6, 6, 5, 7]"
      ]
     },
     "execution_count": 40,
     "metadata": {},
     "output_type": "execute_result"
    }
   ],
   "source": [
    "l"
   ]
  },
  {
   "cell_type": "code",
   "execution_count": 41,
   "id": "694d6153-7297-494a-a969-0b98b5b97cad",
   "metadata": {},
   "outputs": [],
   "source": [
    "l.append(s)"
   ]
  },
  {
   "cell_type": "code",
   "execution_count": 42,
   "id": "4b9038ed-2488-43ae-a4fa-da0d404d4a31",
   "metadata": {},
   "outputs": [
    {
     "data": {
      "text/plain": [
       "[1, 345, 'vishal', True, (5+6j), 3.456, 5, 5, 5, 6, 6, 5, 7, 'pwskill']"
      ]
     },
     "execution_count": 42,
     "metadata": {},
     "output_type": "execute_result"
    }
   ],
   "source": [
    "l"
   ]
  },
  {
   "cell_type": "code",
   "execution_count": 43,
   "id": "7c4b0d7b-deee-4453-ab36-6d41b36f567d",
   "metadata": {},
   "outputs": [
    {
     "data": {
      "text/plain": [
       "[3, 4, 5]"
      ]
     },
     "execution_count": 43,
     "metadata": {},
     "output_type": "execute_result"
    }
   ],
   "source": [
    "l1"
   ]
  },
  {
   "cell_type": "code",
   "execution_count": 44,
   "id": "e1143672-6778-4522-867f-9d3d14ff4e58",
   "metadata": {},
   "outputs": [],
   "source": [
    "l.append(l1)"
   ]
  },
  {
   "cell_type": "code",
   "execution_count": 45,
   "id": "4cce4293-0b65-4656-b5b8-69758b1623a4",
   "metadata": {},
   "outputs": [
    {
     "data": {
      "text/plain": [
       "[1,\n",
       " 345,\n",
       " 'vishal',\n",
       " True,\n",
       " (5+6j),\n",
       " 3.456,\n",
       " 5,\n",
       " 5,\n",
       " 5,\n",
       " 6,\n",
       " 6,\n",
       " 5,\n",
       " 7,\n",
       " 'pwskill',\n",
       " [3, 4, 5]]"
      ]
     },
     "execution_count": 45,
     "metadata": {},
     "output_type": "execute_result"
    }
   ],
   "source": [
    "l"
   ]
  },
  {
   "cell_type": "code",
   "execution_count": 3,
   "id": "94291f77-7218-42ab-a482-25b77fa3230e",
   "metadata": {},
   "outputs": [],
   "source": [
    "l = [1,345,\"vishal\",True,(5+6j),3.456,5,6,7,'pwskills',[3,4,5]]"
   ]
  },
  {
   "cell_type": "code",
   "execution_count": 4,
   "id": "719e1aaa-338c-4774-9ee3-05b7227f85dd",
   "metadata": {},
   "outputs": [
    {
     "data": {
      "text/plain": [
       "[1, 345, 'vishal', True, (5+6j), 3.456, 5, 6, 7, 'pwskills', [3, 4, 5]]"
      ]
     },
     "execution_count": 4,
     "metadata": {},
     "output_type": "execute_result"
    }
   ],
   "source": [
    "l"
   ]
  },
  {
   "cell_type": "code",
   "execution_count": 5,
   "id": "ca6ac2c2-59d1-4c53-8626-e3350bdc030e",
   "metadata": {},
   "outputs": [
    {
     "ename": "TypeError",
     "evalue": "'int' object is not iterable",
     "output_type": "error",
     "traceback": [
      "\u001b[0;31m---------------------------------------------------------------------------\u001b[0m",
      "\u001b[0;31mTypeError\u001b[0m                                 Traceback (most recent call last)",
      "Cell \u001b[0;32mIn[5], line 1\u001b[0m\n\u001b[0;32m----> 1\u001b[0m \u001b[43ml\u001b[49m\u001b[38;5;241;43m.\u001b[39;49m\u001b[43mextend\u001b[49m\u001b[43m(\u001b[49m\u001b[38;5;241;43m4\u001b[39;49m\u001b[43m)\u001b[49m\n",
      "\u001b[0;31mTypeError\u001b[0m: 'int' object is not iterable"
     ]
    }
   ],
   "source": [
    "l.extend(4)"
   ]
  },
  {
   "cell_type": "code",
   "execution_count": 6,
   "id": "71889c67-3cb5-4e0d-9820-4a7c6aacacae",
   "metadata": {},
   "outputs": [],
   "source": [
    " l.extend('vishal')"
   ]
  },
  {
   "cell_type": "code",
   "execution_count": 7,
   "id": "024d76bf-2a8c-4b40-b058-902af1a8065e",
   "metadata": {},
   "outputs": [
    {
     "data": {
      "text/plain": [
       "[1,\n",
       " 345,\n",
       " 'vishal',\n",
       " True,\n",
       " (5+6j),\n",
       " 3.456,\n",
       " 5,\n",
       " 6,\n",
       " 7,\n",
       " 'pwskills',\n",
       " [3, 4, 5],\n",
       " 'v',\n",
       " 'i',\n",
       " 's',\n",
       " 'h',\n",
       " 'a',\n",
       " 'l']"
      ]
     },
     "execution_count": 7,
     "metadata": {},
     "output_type": "execute_result"
    }
   ],
   "source": [
    "l"
   ]
  },
  {
   "cell_type": "code",
   "execution_count": 8,
   "id": "8bd0870c-08b1-47ac-9213-9e45c5a81e68",
   "metadata": {},
   "outputs": [],
   "source": [
    "l1 = [3,4,5]"
   ]
  },
  {
   "cell_type": "code",
   "execution_count": 9,
   "id": "55b30270-7536-47f8-9cd7-cc8f0802cbce",
   "metadata": {},
   "outputs": [
    {
     "data": {
      "text/plain": [
       "[3, 4, 5]"
      ]
     },
     "execution_count": 9,
     "metadata": {},
     "output_type": "execute_result"
    }
   ],
   "source": [
    "l1"
   ]
  },
  {
   "cell_type": "code",
   "execution_count": 13,
   "id": "2e3e7579-2539-477e-a63d-80fd367221c1",
   "metadata": {},
   "outputs": [],
   "source": [
    "l1.insert(1,'vishal')"
   ]
  },
  {
   "cell_type": "code",
   "execution_count": 14,
   "id": "1d5a3f4f-e51d-4f1d-86ba-b0e90c4ab90a",
   "metadata": {},
   "outputs": [
    {
     "data": {
      "text/plain": [
       "[3, 'vishal', 4, 5]"
      ]
     },
     "execution_count": 14,
     "metadata": {},
     "output_type": "execute_result"
    }
   ],
   "source": [
    "l1"
   ]
  },
  {
   "cell_type": "code",
   "execution_count": 15,
   "id": "37781a8c-3091-4ebb-b8fd-5e41fcbc3fe4",
   "metadata": {},
   "outputs": [],
   "source": [
    "l1.insert(3,[7,8,9])"
   ]
  },
  {
   "cell_type": "code",
   "execution_count": 16,
   "id": "50e1f6ac-a2d5-443a-9384-2465efbf9a50",
   "metadata": {},
   "outputs": [
    {
     "data": {
      "text/plain": [
       "[3, 'vishal', 4, [7, 8, 9], 5]"
      ]
     },
     "execution_count": 16,
     "metadata": {},
     "output_type": "execute_result"
    }
   ],
   "source": [
    "l1"
   ]
  },
  {
   "cell_type": "code",
   "execution_count": 17,
   "id": "7840bac6-7d6e-4842-ac85-05a7bab044b2",
   "metadata": {},
   "outputs": [],
   "source": [
    "l1.insert(-1,45)"
   ]
  },
  {
   "cell_type": "code",
   "execution_count": 18,
   "id": "5fa754d6-b445-4028-957f-f54ce610e732",
   "metadata": {},
   "outputs": [
    {
     "data": {
      "text/plain": [
       "[3, 'vishal', 4, [7, 8, 9], 45, 5]"
      ]
     },
     "execution_count": 18,
     "metadata": {},
     "output_type": "execute_result"
    }
   ],
   "source": [
    "l1\n"
   ]
  },
  {
   "cell_type": "code",
   "execution_count": 19,
   "id": "ae3d01f7-dfcb-44b9-872f-9252026d00d8",
   "metadata": {},
   "outputs": [],
   "source": [
    "l1.insert(0,45)"
   ]
  },
  {
   "cell_type": "code",
   "execution_count": 20,
   "id": "19d4cde8-b082-49a5-ab0f-f8cebc4f4a10",
   "metadata": {},
   "outputs": [
    {
     "data": {
      "text/plain": [
       "[45, 3, 'vishal', 4, [7, 8, 9], 45, 5]"
      ]
     },
     "execution_count": 20,
     "metadata": {},
     "output_type": "execute_result"
    }
   ],
   "source": [
    "l1"
   ]
  },
  {
   "cell_type": "code",
   "execution_count": 21,
   "id": "15be5eac-657c-49b8-987e-63b3cbe0ebd8",
   "metadata": {},
   "outputs": [
    {
     "data": {
      "text/plain": [
       "5"
      ]
     },
     "execution_count": 21,
     "metadata": {},
     "output_type": "execute_result"
    }
   ],
   "source": [
    "l1.pop()"
   ]
  },
  {
   "cell_type": "code",
   "execution_count": 22,
   "id": "dde0eb76-ad59-48e3-8722-7467b69b6794",
   "metadata": {},
   "outputs": [
    {
     "data": {
      "text/plain": [
       "[45, 3, 'vishal', 4, [7, 8, 9], 45]"
      ]
     },
     "execution_count": 22,
     "metadata": {},
     "output_type": "execute_result"
    }
   ],
   "source": [
    "l1"
   ]
  },
  {
   "cell_type": "code",
   "execution_count": 23,
   "id": "bb7bc0a2-819f-427c-84ae-840e298a111a",
   "metadata": {},
   "outputs": [
    {
     "data": {
      "text/plain": [
       "45"
      ]
     },
     "execution_count": 23,
     "metadata": {},
     "output_type": "execute_result"
    }
   ],
   "source": [
    "l1.pop()"
   ]
  },
  {
   "cell_type": "code",
   "execution_count": 24,
   "id": "902f30ca-6139-44d9-9e84-06130f4c7ddb",
   "metadata": {},
   "outputs": [
    {
     "data": {
      "text/plain": [
       "[45, 3, 'vishal', 4, [7, 8, 9]]"
      ]
     },
     "execution_count": 24,
     "metadata": {},
     "output_type": "execute_result"
    }
   ],
   "source": [
    "l1"
   ]
  },
  {
   "cell_type": "code",
   "execution_count": 25,
   "id": "d460383d-b31d-4713-b9f6-18a2167552aa",
   "metadata": {},
   "outputs": [
    {
     "data": {
      "text/plain": [
       "4"
      ]
     },
     "execution_count": 25,
     "metadata": {},
     "output_type": "execute_result"
    }
   ],
   "source": [
    "l1.pop(3)"
   ]
  },
  {
   "cell_type": "code",
   "execution_count": 26,
   "id": "de95f8fb-e33b-41a7-a825-7bc38f458f80",
   "metadata": {},
   "outputs": [
    {
     "data": {
      "text/plain": [
       "[45, 3, 'vishal', [7, 8, 9]]"
      ]
     },
     "execution_count": 26,
     "metadata": {},
     "output_type": "execute_result"
    }
   ],
   "source": [
    "l1"
   ]
  },
  {
   "cell_type": "code",
   "execution_count": 27,
   "id": "2963343f-fb22-4339-846d-3b046a80d1b4",
   "metadata": {},
   "outputs": [],
   "source": [
    "l1.remove(3)"
   ]
  },
  {
   "cell_type": "code",
   "execution_count": 28,
   "id": "06214de6-35ab-4e4e-b59d-291a86c3faf0",
   "metadata": {},
   "outputs": [
    {
     "data": {
      "text/plain": [
       "[45, 'vishal', [7, 8, 9]]"
      ]
     },
     "execution_count": 28,
     "metadata": {},
     "output_type": "execute_result"
    }
   ],
   "source": [
    "l1"
   ]
  },
  {
   "cell_type": "code",
   "execution_count": 30,
   "id": "e4e333fb-f44c-4e33-9e94-e40cdfc65055",
   "metadata": {},
   "outputs": [
    {
     "ename": "ValueError",
     "evalue": "list.remove(x): x not in list",
     "output_type": "error",
     "traceback": [
      "\u001b[0;31m---------------------------------------------------------------------------\u001b[0m",
      "\u001b[0;31mValueError\u001b[0m                                Traceback (most recent call last)",
      "Cell \u001b[0;32mIn[30], line 1\u001b[0m\n\u001b[0;32m----> 1\u001b[0m \u001b[43ml1\u001b[49m\u001b[38;5;241;43m.\u001b[39;49m\u001b[43mremove\u001b[49m\u001b[43m(\u001b[49m\u001b[38;5;241;43m3\u001b[39;49m\u001b[43m)\u001b[49m\n",
      "\u001b[0;31mValueError\u001b[0m: list.remove(x): x not in list"
     ]
    }
   ],
   "source": [
    "l1.remove(3)"
   ]
  },
  {
   "cell_type": "code",
   "execution_count": 31,
   "id": "d96fef04-9e5d-4247-b6a8-b492bb4328c1",
   "metadata": {},
   "outputs": [
    {
     "data": {
      "text/plain": [
       "[45, 'vishal', [7, 8, 9]]"
      ]
     },
     "execution_count": 31,
     "metadata": {},
     "output_type": "execute_result"
    }
   ],
   "source": [
    "l1"
   ]
  },
  {
   "cell_type": "code",
   "execution_count": 32,
   "id": "79b8d6d2-b7b1-457c-9891-8f0ebebc6e34",
   "metadata": {},
   "outputs": [],
   "source": [
    "l1[2].remove(8)"
   ]
  },
  {
   "cell_type": "code",
   "execution_count": 33,
   "id": "08f76ca5-2acb-44ce-b02f-3a931211f130",
   "metadata": {},
   "outputs": [
    {
     "data": {
      "text/plain": [
       "[45, 'vishal', [7, 9]]"
      ]
     },
     "execution_count": 33,
     "metadata": {},
     "output_type": "execute_result"
    }
   ],
   "source": [
    "l1"
   ]
  },
  {
   "cell_type": "code",
   "execution_count": 34,
   "id": "28f5f3d8-2ac1-4cb2-ac2f-83fc17072175",
   "metadata": {},
   "outputs": [
    {
     "data": {
      "text/plain": [
       "9"
      ]
     },
     "execution_count": 34,
     "metadata": {},
     "output_type": "execute_result"
    }
   ],
   "source": [
    "l1[2].pop(-1)"
   ]
  },
  {
   "cell_type": "code",
   "execution_count": 35,
   "id": "bf9c1725-1482-4844-a31f-27a32871dfff",
   "metadata": {},
   "outputs": [
    {
     "data": {
      "text/plain": [
       "[45, 'vishal', [7]]"
      ]
     },
     "execution_count": 35,
     "metadata": {},
     "output_type": "execute_result"
    }
   ],
   "source": [
    "l1"
   ]
  },
  {
   "cell_type": "code",
   "execution_count": 37,
   "id": "25c5bc61-8d43-40a1-b54b-a29864a12ce4",
   "metadata": {},
   "outputs": [
    {
     "data": {
      "text/plain": [
       "[[7], 'vishal', 45]"
      ]
     },
     "execution_count": 37,
     "metadata": {},
     "output_type": "execute_result"
    }
   ],
   "source": [
    "l1 = l1[::-1]"
   ]
  },
  {
   "cell_type": "code",
   "execution_count": 38,
   "id": "32000df1-553c-41d5-aaa4-c02f953dbaab",
   "metadata": {},
   "outputs": [],
   "source": [
    "l1.reverse()"
   ]
  },
  {
   "cell_type": "code",
   "execution_count": 39,
   "id": "dccef3ae-c98f-4aa5-bf4e-d3dbe632fd69",
   "metadata": {},
   "outputs": [
    {
     "data": {
      "text/plain": [
       "[[7], 'vishal', 45]"
      ]
     },
     "execution_count": 39,
     "metadata": {},
     "output_type": "execute_result"
    }
   ],
   "source": [
    "l1"
   ]
  },
  {
   "cell_type": "code",
   "execution_count": 40,
   "id": "e57fbaba-828e-4ea8-97a9-0e4de0dd3b57",
   "metadata": {},
   "outputs": [
    {
     "ename": "TypeError",
     "evalue": "'<' not supported between instances of 'str' and 'list'",
     "output_type": "error",
     "traceback": [
      "\u001b[0;31m---------------------------------------------------------------------------\u001b[0m",
      "\u001b[0;31mTypeError\u001b[0m                                 Traceback (most recent call last)",
      "Cell \u001b[0;32mIn[40], line 1\u001b[0m\n\u001b[0;32m----> 1\u001b[0m \u001b[43ml1\u001b[49m\u001b[38;5;241;43m.\u001b[39;49m\u001b[43msort\u001b[49m\u001b[43m(\u001b[49m\u001b[43m)\u001b[49m\n",
      "\u001b[0;31mTypeError\u001b[0m: '<' not supported between instances of 'str' and 'list'"
     ]
    }
   ],
   "source": [
    "l1.sort()"
   ]
  },
  {
   "cell_type": "code",
   "execution_count": 41,
   "id": "e3222bcd-7e07-41f3-ae91-ac6c0625718a",
   "metadata": {},
   "outputs": [],
   "source": [
    "l2 = [3,5,4,6,8,7,9]"
   ]
  },
  {
   "cell_type": "code",
   "execution_count": 43,
   "id": "ba165dc6-919f-4ed0-b5b1-599a8a96b17c",
   "metadata": {},
   "outputs": [],
   "source": [
    "l2.sort()"
   ]
  },
  {
   "cell_type": "code",
   "execution_count": 44,
   "id": "356b8ed6-a2ed-40ac-b078-e3f540863a8c",
   "metadata": {},
   "outputs": [
    {
     "data": {
      "text/plain": [
       "[3, 4, 5, 6, 7, 8, 9]"
      ]
     },
     "execution_count": 44,
     "metadata": {},
     "output_type": "execute_result"
    }
   ],
   "source": [
    "l2"
   ]
  },
  {
   "cell_type": "code",
   "execution_count": 1,
   "id": "9736c96c-744e-4cbe-a2bb-0e438f91e7c8",
   "metadata": {},
   "outputs": [],
   "source": [
    "l3 = ['vishal' , 'patel' , 'kumer' , 'pwskills' , 'data science']"
   ]
  },
  {
   "cell_type": "code",
   "execution_count": 3,
   "id": "2f179a3d-65b2-4fb8-84d9-935676f03079",
   "metadata": {},
   "outputs": [
    {
     "data": {
      "text/plain": [
       "['vishal', 'patel', 'kumer', 'pwskills', 'data science']"
      ]
     },
     "execution_count": 3,
     "metadata": {},
     "output_type": "execute_result"
    }
   ],
   "source": [
    "l3"
   ]
  },
  {
   "cell_type": "code",
   "execution_count": 4,
   "id": "9f671e09-c8e3-49ff-af35-b46bc88f4225",
   "metadata": {},
   "outputs": [],
   "source": [
    "l3.sort()"
   ]
  },
  {
   "cell_type": "code",
   "execution_count": 5,
   "id": "6275bbf8-a5ad-4c64-bcba-03b6e41cfe64",
   "metadata": {},
   "outputs": [
    {
     "data": {
      "text/plain": [
       "['data science', 'kumer', 'patel', 'pwskills', 'vishal']"
      ]
     },
     "execution_count": 5,
     "metadata": {},
     "output_type": "execute_result"
    }
   ],
   "source": [
    "l3"
   ]
  },
  {
   "cell_type": "code",
   "execution_count": 7,
   "id": "ee48d687-bbed-4910-a39a-93acc23a25d5",
   "metadata": {},
   "outputs": [],
   "source": [
    "l3.sort(reverse = True )"
   ]
  },
  {
   "cell_type": "code",
   "execution_count": 8,
   "id": "de5ea769-8696-48d7-a6b5-2f357651da5e",
   "metadata": {},
   "outputs": [
    {
     "data": {
      "text/plain": [
       "['vishal', 'pwskills', 'patel', 'kumer', 'data science']"
      ]
     },
     "execution_count": 8,
     "metadata": {},
     "output_type": "execute_result"
    }
   ],
   "source": [
    "l3"
   ]
  },
  {
   "cell_type": "code",
   "execution_count": 9,
   "id": "016899ae-de62-44d4-9152-86500b7fcafc",
   "metadata": {},
   "outputs": [
    {
     "data": {
      "text/plain": [
       "['vishal', 'pwskills', 'patel', 'kumer', 'data science']"
      ]
     },
     "execution_count": 9,
     "metadata": {},
     "output_type": "execute_result"
    }
   ],
   "source": [
    "l3"
   ]
  },
  {
   "cell_type": "code",
   "execution_count": 10,
   "id": "b12cc945-6efb-4f61-a530-fff61c9960a0",
   "metadata": {},
   "outputs": [
    {
     "data": {
      "text/plain": [
       "['vishal', 'pwskills', 'patel', 'kumer', 'data science']"
      ]
     },
     "execution_count": 10,
     "metadata": {},
     "output_type": "execute_result"
    }
   ],
   "source": [
    "l3"
   ]
  },
  {
   "cell_type": "code",
   "execution_count": 12,
   "id": "d3972708-4107-49dc-af40-b79e4272df03",
   "metadata": {},
   "outputs": [
    {
     "data": {
      "text/plain": [
       "3"
      ]
     },
     "execution_count": 12,
     "metadata": {},
     "output_type": "execute_result"
    }
   ],
   "source": [
    "l3.index('kumer')"
   ]
  },
  {
   "cell_type": "code",
   "execution_count": 14,
   "id": "0a66852a-9d6f-4b62-a7f0-b43f0b508cc3",
   "metadata": {},
   "outputs": [
    {
     "data": {
      "text/plain": [
       "4"
      ]
     },
     "execution_count": 14,
     "metadata": {},
     "output_type": "execute_result"
    }
   ],
   "source": [
    "l3.index('data science')"
   ]
  },
  {
   "cell_type": "code",
   "execution_count": 15,
   "id": "aa1b9ff2-54ce-40e4-8018-a8b1df41b00a",
   "metadata": {},
   "outputs": [
    {
     "data": {
      "text/plain": [
       "1"
      ]
     },
     "execution_count": 15,
     "metadata": {},
     "output_type": "execute_result"
    }
   ],
   "source": [
    "l3.count('kumer')"
   ]
  },
  {
   "cell_type": "code",
   "execution_count": 16,
   "id": "b081b67c-d4fa-4adc-85b0-c185e4ec08e4",
   "metadata": {},
   "outputs": [],
   "source": [
    "s = \"vishal\""
   ]
  },
  {
   "cell_type": "code",
   "execution_count": 1,
   "id": "9055c482-9811-4d81-aaf5-649294725b58",
   "metadata": {},
   "outputs": [],
   "source": [
    "l4 = [3,4,5,6]"
   ]
  },
  {
   "cell_type": "code",
   "execution_count": 2,
   "id": "d2ffc34c-cf7f-43c0-bc16-7270b206fe82",
   "metadata": {},
   "outputs": [],
   "source": [
    "s = \"vishal\""
   ]
  },
  {
   "cell_type": "code",
   "execution_count": 4,
   "id": "a2a63c6a-c7f4-4c94-889b-bb046cc48bb6",
   "metadata": {},
   "outputs": [
    {
     "ename": "TypeError",
     "evalue": "'str' object does not support item assignment",
     "output_type": "error",
     "traceback": [
      "\u001b[0;31m---------------------------------------------------------------------------\u001b[0m",
      "\u001b[0;31mTypeError\u001b[0m                                 Traceback (most recent call last)",
      "Cell \u001b[0;32mIn[4], line 1\u001b[0m\n\u001b[0;32m----> 1\u001b[0m \u001b[43ms\u001b[49m\u001b[43m[\u001b[49m\u001b[38;5;241;43m0\u001b[39;49m\u001b[43m]\u001b[49m \u001b[38;5;241m=\u001b[39m \u001b[38;5;124m'\u001b[39m\u001b[38;5;124ma\u001b[39m\u001b[38;5;124m'\u001b[39m\n",
      "\u001b[0;31mTypeError\u001b[0m: 'str' object does not support item assignment"
     ]
    }
   ],
   "source": [
    "s[0] = 'a' ## string is inmutable"
   ]
  },
  {
   "cell_type": "code",
   "execution_count": 5,
   "id": "017d277f-75cb-46a7-9ca4-7e12473e0bb1",
   "metadata": {},
   "outputs": [],
   "source": [
    "l5 = [3,4,5,6] ## "
   ]
  },
  {
   "cell_type": "code",
   "execution_count": 7,
   "id": "6ce10591-f31b-47dc-ba36-27e2c2f30617",
   "metadata": {},
   "outputs": [],
   "source": [
    "l5[0] = 30"
   ]
  },
  {
   "cell_type": "code",
   "execution_count": 8,
   "id": "3f2f9c19-ee05-4806-84d2-d5549a0c1ae5",
   "metadata": {},
   "outputs": [
    {
     "data": {
      "text/plain": [
       "[30, 4, 5, 6]"
      ]
     },
     "execution_count": 8,
     "metadata": {},
     "output_type": "execute_result"
    }
   ],
   "source": [
    "l5"
   ]
  },
  {
   "cell_type": "code",
   "execution_count": 1,
   "id": "a1521df5-f3fb-4ae4-9085-92f5b0fd6483",
   "metadata": {},
   "outputs": [],
   "source": [
    "s = \"vishal\""
   ]
  },
  {
   "cell_type": "code",
   "execution_count": 2,
   "id": "6d492afc-3914-4243-b21e-72bf3c182c45",
   "metadata": {},
   "outputs": [
    {
     "data": {
      "text/plain": [
       "'vishal'"
      ]
     },
     "execution_count": 2,
     "metadata": {},
     "output_type": "execute_result"
    }
   ],
   "source": [
    "s"
   ]
  },
  {
   "cell_type": "code",
   "execution_count": 4,
   "id": "8ffc64ac-33f2-4e75-8e5f-49f9b7f8c35e",
   "metadata": {},
   "outputs": [
    {
     "data": {
      "text/plain": [
       "'aishal'"
      ]
     },
     "execution_count": 4,
     "metadata": {},
     "output_type": "execute_result"
    }
   ],
   "source": [
    "s.replace('v','a')"
   ]
  },
  {
   "cell_type": "code",
   "execution_count": 5,
   "id": "ee378fbd-4849-42d2-a668-2637691a55b6",
   "metadata": {},
   "outputs": [
    {
     "data": {
      "text/plain": [
       "'vishal'"
      ]
     },
     "execution_count": 5,
     "metadata": {},
     "output_type": "execute_result"
    }
   ],
   "source": [
    "s"
   ]
  },
  {
   "cell_type": "code",
   "execution_count": 6,
   "id": "2531eaf1-9e5a-4857-b4b7-f6adaca65dad",
   "metadata": {},
   "outputs": [],
   "source": [
    "s=s.replace('l' , 'a')"
   ]
  },
  {
   "cell_type": "code",
   "execution_count": 7,
   "id": "6c5711aa-6f29-48fd-a2ea-22bed46d56c0",
   "metadata": {},
   "outputs": [
    {
     "data": {
      "text/plain": [
       "'vishaa'"
      ]
     },
     "execution_count": 7,
     "metadata": {},
     "output_type": "execute_result"
    }
   ],
   "source": [
    "s"
   ]
  },
  {
   "cell_type": "code",
   "execution_count": 8,
   "id": "0bfd8d34-090f-4994-b946-7bb5528d3d8a",
   "metadata": {},
   "outputs": [],
   "source": [
    "t = ( 2,3,4,5,'vishal',45.25,False,[2,3,56,7])"
   ]
  },
  {
   "cell_type": "code",
   "execution_count": 10,
   "id": "f1ec6462-7b11-40f4-8d05-e5026c41cc7d",
   "metadata": {},
   "outputs": [
    {
     "data": {
      "text/plain": [
       "tuple"
      ]
     },
     "execution_count": 10,
     "metadata": {},
     "output_type": "execute_result"
    }
   ],
   "source": [
    "type(t)"
   ]
  },
  {
   "cell_type": "code",
   "execution_count": 11,
   "id": "fd780787-45bf-4e23-a497-5190f7a21740",
   "metadata": {},
   "outputs": [
    {
     "data": {
      "text/plain": [
       "8"
      ]
     },
     "execution_count": 11,
     "metadata": {},
     "output_type": "execute_result"
    }
   ],
   "source": [
    "len(t)"
   ]
  },
  {
   "cell_type": "code",
   "execution_count": 12,
   "id": "a86099f4-e6d6-450a-bd80-8a18ecf20e9e",
   "metadata": {},
   "outputs": [
    {
     "data": {
      "text/plain": [
       "2"
      ]
     },
     "execution_count": 12,
     "metadata": {},
     "output_type": "execute_result"
    }
   ],
   "source": [
    "t[0]"
   ]
  },
  {
   "cell_type": "code",
   "execution_count": 13,
   "id": "e698ba2e-a355-455b-bf21-440096e53ca9",
   "metadata": {},
   "outputs": [
    {
     "data": {
      "text/plain": [
       "([2, 3, 56, 7], False, 45.25, 'vishal', 5, 4, 3, 2)"
      ]
     },
     "execution_count": 13,
     "metadata": {},
     "output_type": "execute_result"
    }
   ],
   "source": [
    "t[::-1]"
   ]
  },
  {
   "cell_type": "code",
   "execution_count": 18,
   "id": "8d50dcdc-8450-4165-a468-363acbe334d5",
   "metadata": {},
   "outputs": [
    {
     "data": {
      "text/plain": [
       "(2, 3, 4, 5, 'vishal', 45.25, False, [2, 3, 56, 7])"
      ]
     },
     "execution_count": 18,
     "metadata": {},
     "output_type": "execute_result"
    }
   ],
   "source": [
    "t[0:8:1]"
   ]
  },
  {
   "cell_type": "code",
   "execution_count": 21,
   "id": "e502ad3b-8476-479e-8dd7-d079e8e97da2",
   "metadata": {},
   "outputs": [
    {
     "ename": "NameError",
     "evalue": "name 'l5' is not defined",
     "output_type": "error",
     "traceback": [
      "\u001b[0;31m---------------------------------------------------------------------------\u001b[0m",
      "\u001b[0;31mNameError\u001b[0m                                 Traceback (most recent call last)",
      "Cell \u001b[0;32mIn[21], line 1\u001b[0m\n\u001b[0;32m----> 1\u001b[0m \u001b[43ml5\u001b[49m\n",
      "\u001b[0;31mNameError\u001b[0m: name 'l5' is not defined"
     ]
    }
   ],
   "source": [
    "l5 = [ 2,3,4,5]"
   ]
  },
  {
   "cell_type": "code",
   "execution_count": 1,
   "id": "c4b50704-7226-4509-9f19-59e8b6234c60",
   "metadata": {},
   "outputs": [],
   "source": [
    "t = ( 2,3,4,5,'vishal',45.25,False,[2,3,56,7])"
   ]
  },
  {
   "cell_type": "code",
   "execution_count": 2,
   "id": "ca403edc-d932-447c-8abb-f2b32bfbd63c",
   "metadata": {},
   "outputs": [
    {
     "data": {
      "text/plain": [
       "(2, 3, 4, 5, 'vishal', 45.25, False, [2, 3, 56, 7])"
      ]
     },
     "execution_count": 2,
     "metadata": {},
     "output_type": "execute_result"
    }
   ],
   "source": [
    "t"
   ]
  },
  {
   "cell_type": "code",
   "execution_count": 3,
   "id": "5b21af7f-d0d2-45bc-862a-3d621efbf711",
   "metadata": {},
   "outputs": [],
   "source": [
    "l4 = ['vishal' ,'pwskills' , 'kumar', 'data science']"
   ]
  },
  {
   "cell_type": "code",
   "execution_count": 4,
   "id": "ff77a6d5-cf70-4ba4-a409-3fa48e316776",
   "metadata": {},
   "outputs": [
    {
     "data": {
      "text/plain": [
       "['vishal', 'pwskills', 'kumar', 'data science']"
      ]
     },
     "execution_count": 4,
     "metadata": {},
     "output_type": "execute_result"
    }
   ],
   "source": [
    "l4"
   ]
  },
  {
   "cell_type": "code",
   "execution_count": 5,
   "id": "34206384-936f-4eac-b7ce-16155a62c046",
   "metadata": {},
   "outputs": [
    {
     "data": {
      "text/plain": [
       "'vishal'"
      ]
     },
     "execution_count": 5,
     "metadata": {},
     "output_type": "execute_result"
    }
   ],
   "source": [
    "l4[0]"
   ]
  },
  {
   "cell_type": "code",
   "execution_count": 8,
   "id": "9ad120b7-79ec-4919-a8a8-8d563de73162",
   "metadata": {},
   "outputs": [],
   "source": [
    "l4[0] = 1234"
   ]
  },
  {
   "cell_type": "markdown",
   "id": "3ecfd69b-af0d-461c-bec0-cc8ea8e6a69a",
   "metadata": {},
   "source": [
    "l4"
   ]
  },
  {
   "cell_type": "code",
   "execution_count": 9,
   "id": "4fb65267-cfa1-43c1-83c4-e33ae6c2b36e",
   "metadata": {},
   "outputs": [
    {
     "data": {
      "text/plain": [
       "[1234, 'pwskills', 'kumar', 'data science']"
      ]
     },
     "execution_count": 9,
     "metadata": {},
     "output_type": "execute_result"
    }
   ],
   "source": [
    "l4"
   ]
  },
  {
   "cell_type": "code",
   "execution_count": 10,
   "id": "f097bb38-2d66-412d-b759-d7dd4812f708",
   "metadata": {},
   "outputs": [
    {
     "data": {
      "text/plain": [
       "(2, 3, 4, 5, 'vishal', 45.25, False, [2, 3, 56, 7])"
      ]
     },
     "execution_count": 10,
     "metadata": {},
     "output_type": "execute_result"
    }
   ],
   "source": [
    "t"
   ]
  },
  {
   "cell_type": "code",
   "execution_count": 12,
   "id": "e0b53874-c8d9-4194-86d0-098b9a93a250",
   "metadata": {},
   "outputs": [
    {
     "ename": "TypeError",
     "evalue": "'tuple' object does not support item assignment",
     "output_type": "error",
     "traceback": [
      "\u001b[0;31m---------------------------------------------------------------------------\u001b[0m",
      "\u001b[0;31mTypeError\u001b[0m                                 Traceback (most recent call last)",
      "Cell \u001b[0;32mIn[12], line 1\u001b[0m\n\u001b[0;32m----> 1\u001b[0m \u001b[43mt\u001b[49m\u001b[43m[\u001b[49m\u001b[38;5;241;43m0\u001b[39;49m\u001b[43m]\u001b[49m \u001b[38;5;241m=\u001b[39m \u001b[38;5;124m\"\u001b[39m\u001b[38;5;124mvishal\u001b[39m\u001b[38;5;124m\"\u001b[39m\n",
      "\u001b[0;31mTypeError\u001b[0m: 'tuple' object does not support item assignment"
     ]
    }
   ],
   "source": [
    "t[0] = \"vishal\""
   ]
  },
  {
   "cell_type": "code",
   "execution_count": 13,
   "id": "3cc45b50-afc8-4e64-8a2b-0f622339dfdb",
   "metadata": {},
   "outputs": [
    {
     "data": {
      "text/plain": [
       "(2, 3, 4, 5, 'vishal', 45.25, False, [2, 3, 56, 7])"
      ]
     },
     "execution_count": 13,
     "metadata": {},
     "output_type": "execute_result"
    }
   ],
   "source": [
    "t"
   ]
  },
  {
   "cell_type": "code",
   "execution_count": 14,
   "id": "eb76e31d-0c02-44e5-bc4b-8136c35c37f5",
   "metadata": {},
   "outputs": [
    {
     "data": {
      "text/plain": [
       "([2, 3, 56, 7], False, 45.25, 'vishal', 5, 4, 3, 2)"
      ]
     },
     "execution_count": 14,
     "metadata": {},
     "output_type": "execute_result"
    }
   ],
   "source": [
    "t[::-1]"
   ]
  },
  {
   "cell_type": "code",
   "execution_count": 15,
   "id": "1abd4039-e1c8-411f-8dae-fd577b732a5c",
   "metadata": {},
   "outputs": [
    {
     "data": {
      "text/plain": [
       "<function tuple.count(value, /)>"
      ]
     },
     "execution_count": 15,
     "metadata": {},
     "output_type": "execute_result"
    }
   ],
   "source": [
    "t.count"
   ]
  },
  {
   "cell_type": "code",
   "execution_count": 16,
   "id": "caa76987-b57f-4b30-a1b5-0fa45657f1b8",
   "metadata": {},
   "outputs": [
    {
     "data": {
      "text/plain": [
       "1"
      ]
     },
     "execution_count": 16,
     "metadata": {},
     "output_type": "execute_result"
    }
   ],
   "source": [
    "t.count(2)"
   ]
  },
  {
   "cell_type": "code",
   "execution_count": 18,
   "id": "8e1c63a8-f8b9-4938-8e1c-d0890a094e5f",
   "metadata": {},
   "outputs": [
    {
     "data": {
      "text/plain": [
       "0"
      ]
     },
     "execution_count": 18,
     "metadata": {},
     "output_type": "execute_result"
    }
   ],
   "source": [
    "t.count(30)"
   ]
  },
  {
   "cell_type": "code",
   "execution_count": 19,
   "id": "fd77cf66-23b8-4dcc-82bc-5615d9e6c7ca",
   "metadata": {},
   "outputs": [
    {
     "data": {
      "text/plain": [
       "<function tuple.index(value, start=0, stop=9223372036854775807, /)>"
      ]
     },
     "execution_count": 19,
     "metadata": {},
     "output_type": "execute_result"
    }
   ],
   "source": [
    "t.index"
   ]
  },
  {
   "cell_type": "code",
   "execution_count": 21,
   "id": "0b0c998e-9b9a-4146-85f1-a90439530a46",
   "metadata": {},
   "outputs": [
    {
     "data": {
      "text/plain": [
       "6"
      ]
     },
     "execution_count": 21,
     "metadata": {},
     "output_type": "execute_result"
    }
   ],
   "source": [
    "t.index(False)"
   ]
  },
  {
   "cell_type": "code",
   "execution_count": 22,
   "id": "855b39c4-4da1-450b-92e8-1c107d3c67c5",
   "metadata": {},
   "outputs": [],
   "source": [
    "s1 = {}"
   ]
  },
  {
   "cell_type": "code",
   "execution_count": 23,
   "id": "c77d7b7b-6b70-4991-8061-50ada9a3d2d5",
   "metadata": {},
   "outputs": [
    {
     "data": {
      "text/plain": [
       "dict"
      ]
     },
     "execution_count": 23,
     "metadata": {},
     "output_type": "execute_result"
    }
   ],
   "source": [
    "type(s1)\n"
   ]
  },
  {
   "cell_type": "code",
   "execution_count": 24,
   "id": "c748eae2-ed7e-4965-be66-cdef0a9d6a0f",
   "metadata": {},
   "outputs": [],
   "source": [
    "s2 = {2,3,4,5,6}"
   ]
  },
  {
   "cell_type": "code",
   "execution_count": 26,
   "id": "490b0b9f-f43e-43cb-acc2-e208befab03b",
   "metadata": {},
   "outputs": [
    {
     "data": {
      "text/plain": [
       "set"
      ]
     },
     "execution_count": 26,
     "metadata": {},
     "output_type": "execute_result"
    }
   ],
   "source": [
    "type(s2)"
   ]
  },
  {
   "cell_type": "code",
   "execution_count": 28,
   "id": "1fff51bf-1c73-4513-a7b9-a558a0976277",
   "metadata": {},
   "outputs": [
    {
     "ename": "TypeError",
     "evalue": "unhashable type: 'list'",
     "output_type": "error",
     "traceback": [
      "\u001b[0;31m---------------------------------------------------------------------------\u001b[0m",
      "\u001b[0;31mTypeError\u001b[0m                                 Traceback (most recent call last)",
      "Cell \u001b[0;32mIn[28], line 1\u001b[0m\n\u001b[0;32m----> 1\u001b[0m s3 \u001b[38;5;241m=\u001b[39m {\u001b[38;5;241m2\u001b[39m,\u001b[38;5;241m3\u001b[39m,\u001b[38;5;241m4\u001b[39m,\u001b[38;5;241m5\u001b[39m,\u001b[38;5;124m'\u001b[39m\u001b[38;5;124mvishal\u001b[39m\u001b[38;5;124m'\u001b[39m,\u001b[38;5;124m\"\u001b[39m\u001b[38;5;124mpwskills\u001b[39m\u001b[38;5;124m\"\u001b[39m,\u001b[38;5;124m'\u001b[39m\u001b[38;5;124mkumer\u001b[39m\u001b[38;5;124m'\u001b[39m,[\u001b[38;5;241m2\u001b[39m,\u001b[38;5;241m3\u001b[39m,\u001b[38;5;241m4\u001b[39m,\u001b[38;5;241m5\u001b[39m]}\n",
      "\u001b[0;31mTypeError\u001b[0m: unhashable type: 'list'"
     ]
    }
   ],
   "source": [
    "s3 = {2,3,4,5,'vishal',\"pwskills\",'kumer',[2,3,4,5]}"
   ]
  },
  {
   "cell_type": "code",
   "execution_count": 29,
   "id": "48bab60e-f4b5-41be-8f7c-681b4b375359",
   "metadata": {},
   "outputs": [],
   "source": [
    "s4 = {2,3,4,5,'vishal',\"pwskills\",'kumer',(2,3,4,5)}"
   ]
  },
  {
   "cell_type": "code",
   "execution_count": 30,
   "id": "d16f509c-556c-4088-9506-a727761fdf49",
   "metadata": {},
   "outputs": [
    {
     "data": {
      "text/plain": [
       "{(2, 3, 4, 5), 2, 3, 4, 5, 'kumer', 'pwskills', 'vishal'}"
      ]
     },
     "execution_count": 30,
     "metadata": {},
     "output_type": "execute_result"
    }
   ],
   "source": [
    "s4"
   ]
  },
  {
   "cell_type": "code",
   "execution_count": 39,
   "id": "6611cd2c-1a0f-4ae6-88a0-f00705720e16",
   "metadata": {},
   "outputs": [],
   "source": [
    "s5 = {1,2,3,4,5,5,6,7,1,2,3,4,4,2,1,7,8,5,6,6,5,8,\"vishal\",\"vishal\"}"
   ]
  },
  {
   "cell_type": "code",
   "execution_count": 38,
   "id": "837f3a3e-9851-49bc-a4f6-92bdcf549ba1",
   "metadata": {},
   "outputs": [
    {
     "data": {
      "text/plain": [
       "{1, 2, 3, 4, 5, 6, 7, 8}"
      ]
     },
     "execution_count": 38,
     "metadata": {},
     "output_type": "execute_result"
    }
   ],
   "source": [
    "s5"
   ]
  },
  {
   "cell_type": "code",
   "execution_count": 40,
   "id": "b4094e72-1dd3-429d-9d9c-b48d496997b3",
   "metadata": {},
   "outputs": [
    {
     "data": {
      "text/plain": [
       "{1, 2, 3, 4, 5, 6, 7, 8, 'vishal'}"
      ]
     },
     "execution_count": 40,
     "metadata": {},
     "output_type": "execute_result"
    }
   ],
   "source": [
    "s5"
   ]
  },
  {
   "cell_type": "code",
   "execution_count": 41,
   "id": "4cb8135d-3241-42ec-ab99-9cb19077deef",
   "metadata": {},
   "outputs": [],
   "source": [
    "l6 = [1,2,3,4,5,6,7,1,2,3,4,5]"
   ]
  },
  {
   "cell_type": "code",
   "execution_count": 42,
   "id": "d15d6c7c-3053-4257-968f-578bd9f50974",
   "metadata": {},
   "outputs": [
    {
     "data": {
      "text/plain": [
       "{1, 2, 3, 4, 5, 6, 7}"
      ]
     },
     "execution_count": 42,
     "metadata": {},
     "output_type": "execute_result"
    }
   ],
   "source": [
    "set(l6)"
   ]
  },
  {
   "cell_type": "code",
   "execution_count": 43,
   "id": "34292726-3e7a-47e6-b5ca-90be4740d168",
   "metadata": {},
   "outputs": [
    {
     "data": {
      "text/plain": [
       "[1, 2, 3, 4, 5, 6, 7, 1, 2, 3, 4, 5]"
      ]
     },
     "execution_count": 43,
     "metadata": {},
     "output_type": "execute_result"
    }
   ],
   "source": [
    "l6"
   ]
  },
  {
   "cell_type": "code",
   "execution_count": 48,
   "id": "57e35ab7-6d27-4899-b3f9-0de8e929f950",
   "metadata": {},
   "outputs": [],
   "source": [
    "l6 =list(set(l6))"
   ]
  },
  {
   "cell_type": "code",
   "execution_count": 49,
   "id": "ff4f1822-9ed7-4df4-a79e-8a2971f1ba82",
   "metadata": {},
   "outputs": [
    {
     "data": {
      "text/plain": [
       "[1, 2, 3, 4, 5, 6, 7]"
      ]
     },
     "execution_count": 49,
     "metadata": {},
     "output_type": "execute_result"
    }
   ],
   "source": [
    "l6"
   ]
  },
  {
   "cell_type": "code",
   "execution_count": 50,
   "id": "f17b9372-1704-4bd4-9d6f-045d28c1fab0",
   "metadata": {},
   "outputs": [],
   "source": [
    "s5 = {234,432,45,678,345,123,432,'abc'}"
   ]
  },
  {
   "cell_type": "code",
   "execution_count": 51,
   "id": "e426f690-4d9d-43f5-acfa-ea1db54e84e5",
   "metadata": {},
   "outputs": [
    {
     "data": {
      "text/plain": [
       "{123, 234, 345, 432, 45, 678, 'abc'}"
      ]
     },
     "execution_count": 51,
     "metadata": {},
     "output_type": "execute_result"
    }
   ],
   "source": [
    "s5 ## set is never arranged the data"
   ]
  },
  {
   "cell_type": "code",
   "execution_count": 52,
   "id": "8ff128ff-d7b6-4278-8e8a-bd87a4024e59",
   "metadata": {},
   "outputs": [
    {
     "ename": "TypeError",
     "evalue": "'set' object is not subscriptable",
     "output_type": "error",
     "traceback": [
      "\u001b[0;31m---------------------------------------------------------------------------\u001b[0m",
      "\u001b[0;31mTypeError\u001b[0m                                 Traceback (most recent call last)",
      "Cell \u001b[0;32mIn[52], line 1\u001b[0m\n\u001b[0;32m----> 1\u001b[0m \u001b[43ms5\u001b[49m\u001b[43m[\u001b[49m\u001b[38;5;241;43m0\u001b[39;49m\u001b[43m]\u001b[49m\n",
      "\u001b[0;31mTypeError\u001b[0m: 'set' object is not subscriptable"
     ]
    }
   ],
   "source": [
    "s5[0] ## set mai indixing defined nahi hai "
   ]
  },
  {
   "cell_type": "code",
   "execution_count": 53,
   "id": "1008880e-91b5-40f5-8629-fb7b7a9a3832",
   "metadata": {},
   "outputs": [
    {
     "ename": "TypeError",
     "evalue": "'set' object is not subscriptable",
     "output_type": "error",
     "traceback": [
      "\u001b[0;31m---------------------------------------------------------------------------\u001b[0m",
      "\u001b[0;31mTypeError\u001b[0m                                 Traceback (most recent call last)",
      "Cell \u001b[0;32mIn[53], line 1\u001b[0m\n\u001b[0;32m----> 1\u001b[0m \u001b[43ms5\u001b[49m\u001b[43m[\u001b[49m\u001b[43m:\u001b[49m\u001b[43m:\u001b[49m\u001b[38;5;241;43m-\u001b[39;49m\u001b[38;5;241;43m1\u001b[39;49m\u001b[43m]\u001b[49m\n",
      "\u001b[0;31mTypeError\u001b[0m: 'set' object is not subscriptable"
     ]
    }
   ],
   "source": [
    "s5[::-1] ## set function mai slasing consept nahi hota hai . "
   ]
  },
  {
   "cell_type": "code",
   "execution_count": 54,
   "id": "84710758-6be1-4191-b65a-5831098f7bdc",
   "metadata": {},
   "outputs": [],
   "source": [
    "s5.add(45)"
   ]
  },
  {
   "cell_type": "code",
   "execution_count": 55,
   "id": "99180afa-830d-4eea-9040-5cd2f67e81a3",
   "metadata": {},
   "outputs": [
    {
     "data": {
      "text/plain": [
       "{123, 234, 345, 432, 45, 678, 'abc'}"
      ]
     },
     "execution_count": 55,
     "metadata": {},
     "output_type": "execute_result"
    }
   ],
   "source": [
    "s5"
   ]
  },
  {
   "cell_type": "code",
   "execution_count": 56,
   "id": "6cc0630c-b32e-4d3e-8d07-51620d0223c0",
   "metadata": {},
   "outputs": [],
   "source": [
    "s5.add(45)"
   ]
  },
  {
   "cell_type": "code",
   "execution_count": 57,
   "id": "5d3c7374-3383-4ccb-98e9-98a5f0f629eb",
   "metadata": {},
   "outputs": [
    {
     "data": {
      "text/plain": [
       "{123, 234, 345, 432, 45, 678, 'abc'}"
      ]
     },
     "execution_count": 57,
     "metadata": {},
     "output_type": "execute_result"
    }
   ],
   "source": [
    "s5 ## set is unique property that why not add 45 "
   ]
  },
  {
   "cell_type": "code",
   "execution_count": 58,
   "id": "55cf6097-7dfe-494b-add9-8ce55ace7aa4",
   "metadata": {},
   "outputs": [],
   "source": [
    "s5.remove(45)"
   ]
  },
  {
   "cell_type": "code",
   "execution_count": 59,
   "id": "8dca28bd-de60-4455-983f-c2f822f90285",
   "metadata": {},
   "outputs": [
    {
     "data": {
      "text/plain": [
       "{123, 234, 345, 432, 678, 'abc'}"
      ]
     },
     "execution_count": 59,
     "metadata": {},
     "output_type": "execute_result"
    }
   ],
   "source": [
    "s5"
   ]
  },
  {
   "cell_type": "code",
   "execution_count": 60,
   "id": "4b42b454-5ca8-44a5-a6ac-d84230d18717",
   "metadata": {},
   "outputs": [],
   "source": [
    "d = {}"
   ]
  },
  {
   "cell_type": "code",
   "execution_count": 61,
   "id": "2e4da8ce-4a05-46cf-81a5-6f2e9e245bf3",
   "metadata": {},
   "outputs": [
    {
     "data": {
      "text/plain": [
       "dict"
      ]
     },
     "execution_count": 61,
     "metadata": {},
     "output_type": "execute_result"
    }
   ],
   "source": [
    "type(d)"
   ]
  },
  {
   "cell_type": "code",
   "execution_count": 62,
   "id": "bde0d735-d64f-4dab-a6e6-bff6de55ec4e",
   "metadata": {},
   "outputs": [],
   "source": [
    "d1 = { \"key\":\"vishal\"}"
   ]
  },
  {
   "cell_type": "code",
   "execution_count": 63,
   "id": "0930f640-d58d-4210-b0c8-3a1d22d956ae",
   "metadata": {},
   "outputs": [
    {
     "data": {
      "text/plain": [
       "{'key': 'vishal'}"
      ]
     },
     "execution_count": 63,
     "metadata": {},
     "output_type": "execute_result"
    }
   ],
   "source": [
    "d1"
   ]
  },
  {
   "cell_type": "code",
   "execution_count": 64,
   "id": "59c75805-76c2-4cc7-81a4-72b6dea688a9",
   "metadata": {},
   "outputs": [],
   "source": [
    "d2 = {'name':'vishal','email':'vp6760182@gmail.com','number':'6578'}"
   ]
  },
  {
   "cell_type": "code",
   "execution_count": 65,
   "id": "4b3ba176-32b3-49cc-be6f-caa61226dde2",
   "metadata": {},
   "outputs": [
    {
     "data": {
      "text/plain": [
       "{'name': 'vishal', 'email': 'vp6760182@gmail.com', 'number': '6578'}"
      ]
     },
     "execution_count": 65,
     "metadata": {},
     "output_type": "execute_result"
    }
   ],
   "source": [
    "d2"
   ]
  },
  {
   "cell_type": "code",
   "execution_count": 66,
   "id": "2d581d75-2af7-4705-934b-eebe125b62ac",
   "metadata": {},
   "outputs": [
    {
     "ename": "SyntaxError",
     "evalue": "invalid syntax (4024438768.py, line 1)",
     "output_type": "error",
     "traceback": [
      "\u001b[0;36m  Cell \u001b[0;32mIn[66], line 1\u001b[0;36m\u001b[0m\n\u001b[0;31m    d3  = {234:\"vishal\",@:'abc'}\u001b[0m\n\u001b[0m                        ^\u001b[0m\n\u001b[0;31mSyntaxError\u001b[0m\u001b[0;31m:\u001b[0m invalid syntax\n"
     ]
    }
   ],
   "source": [
    "d3  = {234:\"vishal\",@:'abc'}"
   ]
  },
  {
   "cell_type": "code",
   "execution_count": 18,
   "id": "3f1fda3c-7cb2-47ba-bc0e-9db6bc202171",
   "metadata": {},
   "outputs": [],
   "source": [
    " d4 = { 345:'abc','_abc':'rty','True':123}"
   ]
  },
  {
   "cell_type": "code",
   "execution_count": 19,
   "id": "3c4e7ec0-3c35-40e4-b4bb-8a72645c47ca",
   "metadata": {},
   "outputs": [
    {
     "data": {
      "text/plain": [
       "{345: 'abc', '_abc': 'rty', 'True': 123}"
      ]
     },
     "execution_count": 19,
     "metadata": {},
     "output_type": "execute_result"
    }
   ],
   "source": [
    "d4"
   ]
  },
  {
   "cell_type": "code",
   "execution_count": 20,
   "id": "8a99409f-5334-4cfd-b8ec-0c3e9dfe14cc",
   "metadata": {},
   "outputs": [],
   "source": [
    "## dict mai indixinf concept naji hota h isme key consept hota hai "
   ]
  },
  {
   "cell_type": "code",
   "execution_count": 21,
   "id": "08b1ada1-9c76-41d6-86e3-0768d70042ae",
   "metadata": {},
   "outputs": [
    {
     "data": {
      "text/plain": [
       "'abc'"
      ]
     },
     "execution_count": 21,
     "metadata": {},
     "output_type": "execute_result"
    }
   ],
   "source": [
    "d4[345]"
   ]
  },
  {
   "cell_type": "code",
   "execution_count": 22,
   "id": "42e8a583-79e6-42db-9c9b-b87e5b3631bd",
   "metadata": {},
   "outputs": [
    {
     "data": {
      "text/plain": [
       "123"
      ]
     },
     "execution_count": 22,
     "metadata": {},
     "output_type": "execute_result"
    }
   ],
   "source": [
    "d4['True']"
   ]
  },
  {
   "cell_type": "code",
   "execution_count": 23,
   "id": "34aa44f4-530e-41fb-85a2-5df4a9fc5c8e",
   "metadata": {},
   "outputs": [
    {
     "ename": "KeyError",
     "evalue": "'1'",
     "output_type": "error",
     "traceback": [
      "\u001b[0;31m---------------------------------------------------------------------------\u001b[0m",
      "\u001b[0;31mKeyError\u001b[0m                                  Traceback (most recent call last)",
      "Cell \u001b[0;32mIn[23], line 1\u001b[0m\n\u001b[0;32m----> 1\u001b[0m \u001b[43md4\u001b[49m\u001b[43m[\u001b[49m\u001b[38;5;124;43m'\u001b[39;49m\u001b[38;5;124;43m1\u001b[39;49m\u001b[38;5;124;43m'\u001b[39;49m\u001b[43m]\u001b[49m\n",
      "\u001b[0;31mKeyError\u001b[0m: '1'"
     ]
    }
   ],
   "source": [
    "d4['1']"
   ]
  },
  {
   "cell_type": "code",
   "execution_count": 24,
   "id": "67e0757b-036e-4ea6-9003-d69884437196",
   "metadata": {},
   "outputs": [],
   "source": [
    "d5 = {'name':'vis','mail_id':'vp567','name':'vishal'}"
   ]
  },
  {
   "cell_type": "code",
   "execution_count": 26,
   "id": "a30c8d8f-d163-4d30-9884-2e127e35cdf0",
   "metadata": {},
   "outputs": [
    {
     "data": {
      "text/plain": [
       "'vishal'"
      ]
     },
     "execution_count": 26,
     "metadata": {},
     "output_type": "execute_result"
    }
   ],
   "source": [
    "d5['name'] ## kitne bar bhe same key ko likh lo unique key ko hi output dega and last mai h usko hi output dega "
   ]
  },
  {
   "cell_type": "code",
   "execution_count": 27,
   "id": "9ff34952-d4bb-4050-aa03-43bdc5b39fda",
   "metadata": {},
   "outputs": [],
   "source": [
    "## ager same key ho to last update valu hi aayega "
   ]
  },
  {
   "cell_type": "code",
   "execution_count": 30,
   "id": "200d9cf2-8e37-49ca-8264-e51973aedc60",
   "metadata": {},
   "outputs": [],
   "source": [
    "d6 = {'company':'pwskills','course':['webd','data science','java'+'system design']}"
   ]
  },
  {
   "cell_type": "code",
   "execution_count": 31,
   "id": "927aa925-6130-48d6-b156-0757acdedbc8",
   "metadata": {},
   "outputs": [
    {
     "data": {
      "text/plain": [
       "{'company': 'pwskills',\n",
       " 'course': ['webd', 'data science', 'javasystem design']}"
      ]
     },
     "execution_count": 31,
     "metadata": {},
     "output_type": "execute_result"
    }
   ],
   "source": [
    "d6"
   ]
  },
  {
   "cell_type": "code",
   "execution_count": 37,
   "id": "c7ad7e2c-840c-4df3-bb32-bf70ea95e325",
   "metadata": {},
   "outputs": [
    {
     "data": {
      "text/plain": [
       "'data science'"
      ]
     },
     "execution_count": 37,
     "metadata": {},
     "output_type": "execute_result"
    }
   ],
   "source": [
    "d6['course'][1]"
   ]
  },
  {
   "cell_type": "code",
   "execution_count": 41,
   "id": "333895a0-85af-494c-90a2-d55a589d8a00",
   "metadata": {},
   "outputs": [],
   "source": [
    "d7 = {'number':[2,3,5,6,7],'assignment':(1,2,3,4,5,6,7),'launch_date':{2,4,12,28},'class_timing':{'web_dev':8,'java_sd':7 }}"
   ]
  },
  {
   "cell_type": "code",
   "execution_count": 42,
   "id": "06524894-15aa-49d7-a184-ccb974dd2d54",
   "metadata": {},
   "outputs": [
    {
     "data": {
      "text/plain": [
       "{'number': [2, 3, 5, 6, 7],\n",
       " 'assignment': (1, 2, 3, 4, 5, 6, 7),\n",
       " 'launch_date': {2, 4, 12, 28},\n",
       " 'class_timing': {'web_dev': 8, 'java_sd': 7}}"
      ]
     },
     "execution_count": 42,
     "metadata": {},
     "output_type": "execute_result"
    }
   ],
   "source": [
    "d7"
   ]
  },
  {
   "cell_type": "code",
   "execution_count": 44,
   "id": "da4930cc-f3f4-4208-9180-205409b58cc3",
   "metadata": {},
   "outputs": [
    {
     "data": {
      "text/plain": [
       "7"
      ]
     },
     "execution_count": 44,
     "metadata": {},
     "output_type": "execute_result"
    }
   ],
   "source": [
    "d7['class_timing']['java_sd']"
   ]
  },
  {
   "cell_type": "code",
   "execution_count": 45,
   "id": "bf7ef87f-d113-4848-aa48-460ab9f83180",
   "metadata": {},
   "outputs": [],
   "source": [
    "d7['mentor']=['sudhanshu','krish','anurag','hayder']"
   ]
  },
  {
   "cell_type": "code",
   "execution_count": 46,
   "id": "3c8fad7e-a3c2-4106-ba99-eb88d46a3d0b",
   "metadata": {},
   "outputs": [
    {
     "data": {
      "text/plain": [
       "{'number': [2, 3, 5, 6, 7],\n",
       " 'assignment': (1, 2, 3, 4, 5, 6, 7),\n",
       " 'launch_date': {2, 4, 12, 28},\n",
       " 'class_timing': {'web_dev': 8, 'java_sd': 7},\n",
       " 'mentor': ['sudhanshu', 'krish', 'anurag', 'hayder']}"
      ]
     },
     "execution_count": 46,
     "metadata": {},
     "output_type": "execute_result"
    }
   ],
   "source": [
    "d7"
   ]
  },
  {
   "cell_type": "code",
   "execution_count": 47,
   "id": "4bf717d2-e122-4867-b2bf-caccb3c363ec",
   "metadata": {},
   "outputs": [],
   "source": [
    "d7['number'] = [7,8,9]"
   ]
  },
  {
   "cell_type": "code",
   "execution_count": 48,
   "id": "c5c099f5-9391-4d53-98ae-059ef8493536",
   "metadata": {},
   "outputs": [
    {
     "data": {
      "text/plain": [
       "{'number': [7, 8, 9],\n",
       " 'assignment': (1, 2, 3, 4, 5, 6, 7),\n",
       " 'launch_date': {2, 4, 12, 28},\n",
       " 'class_timing': {'web_dev': 8, 'java_sd': 7},\n",
       " 'mentor': ['sudhanshu', 'krish', 'anurag', 'hayder']}"
      ]
     },
     "execution_count": 48,
     "metadata": {},
     "output_type": "execute_result"
    }
   ],
   "source": [
    "d7"
   ]
  },
  {
   "cell_type": "code",
   "execution_count": 2,
   "id": "9394a4ce-164f-480e-8975-5392cbfa7b2a",
   "metadata": {},
   "outputs": [],
   "source": [
    "d7 = {'number':[2,3,5,6,7],'assignment':(1,2,3,4,5,6,7),'launch_date':{2,4,12,28},'class_timing':{'web_dev':8,'java_sd':7 }}"
   ]
  },
  {
   "cell_type": "code",
   "execution_count": 4,
   "id": "3c7e109c-f336-482e-996f-7a5ca1b1724a",
   "metadata": {},
   "outputs": [
    {
     "data": {
      "text/plain": [
       "{'number': [2, 3, 5, 6, 7],\n",
       " 'assignment': (1, 2, 3, 4, 5, 6, 7),\n",
       " 'launch_date': {2, 4, 12, 28},\n",
       " 'class_timing': {'web_dev': 8, 'java_sd': 7}}"
      ]
     },
     "execution_count": 4,
     "metadata": {},
     "output_type": "execute_result"
    }
   ],
   "source": [
    "d7"
   ]
  },
  {
   "cell_type": "code",
   "execution_count": 5,
   "id": "ce262ac1-4a85-48db-94b8-891b1f167551",
   "metadata": {},
   "outputs": [
    {
     "data": {
      "text/plain": [
       "<function dict.keys>"
      ]
     },
     "execution_count": 5,
     "metadata": {},
     "output_type": "execute_result"
    }
   ],
   "source": [
    "d7.keys"
   ]
  },
  {
   "cell_type": "code",
   "execution_count": 6,
   "id": "0dea953f-a498-4240-b205-aa6916e1edf4",
   "metadata": {},
   "outputs": [
    {
     "data": {
      "text/plain": [
       "dict_keys(['number', 'assignment', 'launch_date', 'class_timing'])"
      ]
     },
     "execution_count": 6,
     "metadata": {},
     "output_type": "execute_result"
    }
   ],
   "source": [
    "d7.keys()"
   ]
  },
  {
   "cell_type": "code",
   "execution_count": 8,
   "id": "1dc13f04-e9f9-4440-9444-4d269da30e8a",
   "metadata": {},
   "outputs": [
    {
     "data": {
      "text/plain": [
       "[[2, 3, 5, 6, 7],\n",
       " (1, 2, 3, 4, 5, 6, 7),\n",
       " {2, 4, 12, 28},\n",
       " {'web_dev': 8, 'java_sd': 7}]"
      ]
     },
     "execution_count": 8,
     "metadata": {},
     "output_type": "execute_result"
    }
   ],
   "source": [
    "list(d7.values())"
   ]
  },
  {
   "cell_type": "code",
   "execution_count": 11,
   "id": "ef4f2378-b8f1-4e05-b4ee-7ea9df1060fd",
   "metadata": {},
   "outputs": [
    {
     "data": {
      "text/plain": [
       "[('number', [2, 3, 5, 6, 7]),\n",
       " ('assignment', (1, 2, 3, 4, 5, 6, 7)),\n",
       " ('launch_date', {2, 4, 12, 28}),\n",
       " ('class_timing', {'web_dev': 8, 'java_sd': 7})]"
      ]
     },
     "execution_count": 11,
     "metadata": {},
     "output_type": "execute_result"
    }
   ],
   "source": [
    "list(d7.items())"
   ]
  },
  {
   "cell_type": "code",
   "execution_count": 13,
   "id": "cc5ba037-e488-41d6-904b-2bcb865e8040",
   "metadata": {},
   "outputs": [
    {
     "data": {
      "text/plain": [
       "[2, 3, 5, 6, 7]"
      ]
     },
     "execution_count": 13,
     "metadata": {},
     "output_type": "execute_result"
    }
   ],
   "source": [
    "d7.pop('number')"
   ]
  },
  {
   "cell_type": "code",
   "execution_count": 14,
   "id": "e5f7dddf-d411-493c-9255-368a36e0710f",
   "metadata": {},
   "outputs": [
    {
     "data": {
      "text/plain": [
       "{'assignment': (1, 2, 3, 4, 5, 6, 7),\n",
       " 'launch_date': {2, 4, 12, 28},\n",
       " 'class_timing': {'web_dev': 8, 'java_sd': 7}}"
      ]
     },
     "execution_count": 14,
     "metadata": {},
     "output_type": "execute_result"
    }
   ],
   "source": [
    "d7"
   ]
  },
  {
   "cell_type": "code",
   "execution_count": null,
   "id": "7be98159-1471-4e5c-aaca-fc1eda15e747",
   "metadata": {},
   "outputs": [],
   "source": [
    "marks = int(input(\"enter the your marks\"))\n",
    "if marks >= 80 :\n",
    "    print(\"you will be a part of A0 batch\")\n",
    "elif marks >=60 and marks <80 :\n",
    "    print (\"you will be part of A1 batch\")\n",
    "elif marks >=40 and marks <60 :\n",
    "    print (\"you will be part of A2 batch\")\n",
    "else  :\n",
    "    print (\"you will be part of A3 batch\")"
   ]
  },
  {
   "cell_type": "code",
   "execution_count": null,
   "id": "8d4ae294-28ec-4e05-953b-47e8c442977e",
   "metadata": {},
   "outputs": [],
   "source": [
    "price = int(input(\"enter price\"))\n",
    "if price > 1000:\n",
    "    print (\"i will not purchase\")\n",
    "else :\n",
    "           print(\"i will purchase\")"
   ]
  },
  {
   "cell_type": "code",
   "execution_count": null,
   "id": "42182a1a-852a-40a6-8da8-e1924c6ea3bf",
   "metadata": {},
   "outputs": [],
   "source": [
    "l = [1,2,3,4,5,6,7,8]"
   ]
  },
  {
   "cell_type": "code",
   "execution_count": null,
   "id": "5e6e7ebf-0ca8-4be8-ba87-c4b1d0fdae64",
   "metadata": {},
   "outputs": [],
   "source": [
    "l[0]"
   ]
  },
  {
   "cell_type": "code",
   "execution_count": null,
   "id": "13dd50e9-21d6-434e-b6c4-6d91763ca344",
   "metadata": {},
   "outputs": [],
   "source": []
  }
 ],
 "metadata": {
  "kernelspec": {
   "display_name": "Python 3 (ipykernel)",
   "language": "python",
   "name": "python3"
  },
  "language_info": {
   "codemirror_mode": {
    "name": "ipython",
    "version": 3
   },
   "file_extension": ".py",
   "mimetype": "text/x-python",
   "name": "python",
   "nbconvert_exporter": "python",
   "pygments_lexer": "ipython3",
   "version": "3.10.8"
  }
 },
 "nbformat": 4,
 "nbformat_minor": 5
}
